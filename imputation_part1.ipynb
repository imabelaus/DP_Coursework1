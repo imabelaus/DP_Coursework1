{
  "nbformat": 4,
  "nbformat_minor": 0,
  "metadata": {
    "colab": {
      "name": "imputation_part1.ipynb",
      "version": "0.3.2",
      "provenance": []
    },
    "kernelspec": {
      "name": "python3",
      "display_name": "Python 3"
    }
  },
  "cells": [
    {
      "cell_type": "code",
      "metadata": {
        "id": "IzpAXWVTxrXu",
        "colab_type": "code",
        "colab": {}
      },
      "source": [
        "import numpy as np\n",
        "import pandas as pd"
      ],
      "execution_count": 0,
      "outputs": []
    },
    {
      "cell_type": "code",
      "metadata": {
        "id": "sVQiQmTPy1j-",
        "colab_type": "code",
        "outputId": "9fb07940-b608-4724-df4a-664585dbef9f",
        "colab": {
          "base_uri": "https://localhost:8080/",
          "height": 35
        }
      },
      "source": [
        "from keras.preprocessing.text import Tokenizer\n",
        "from keras.preprocessing.sequence import pad_sequences\n",
        "from keras.models import Sequential\n",
        "from keras import layers\n",
        "from sklearn.model_selection import train_test_split\n",
        "from sklearn.metrics import confusion_matrix\n",
        "import pandas as pd"
      ],
      "execution_count": 0,
      "outputs": [
        {
          "output_type": "stream",
          "text": [
            "Using TensorFlow backend.\n"
          ],
          "name": "stderr"
        }
      ]
    },
    {
      "cell_type": "code",
      "metadata": {
        "id": "GlLc2bsOm53A",
        "colab_type": "code",
        "colab": {}
      },
      "source": [
        "import pandas as pd\n",
        "import numpy as np\n",
        "import matplotlib.pyplot as plt\n",
        "import seaborn as sns\n",
        "import missingno as mno\n",
        "from sklearn import linear_model\n",
        "%matplotlib inline"
      ],
      "execution_count": 0,
      "outputs": []
    },
    {
      "cell_type": "code",
      "metadata": {
        "id": "WLP8oaWt9lPS",
        "colab_type": "code",
        "colab": {}
      },
      "source": [
        "import missingno as mno\n",
        "from sklearn import linear_model"
      ],
      "execution_count": 0,
      "outputs": []
    },
    {
      "cell_type": "code",
      "metadata": {
        "id": "O6j9MJebzB3i",
        "colab_type": "code",
        "colab": {}
      },
      "source": [
        "df = pd.read_csv('/content/Imanol_mastersheet - Sheet3.csv')"
      ],
      "execution_count": 0,
      "outputs": []
    },
    {
      "cell_type": "code",
      "metadata": {
        "id": "D97CNeOTzI3n",
        "colab_type": "code",
        "outputId": "4ab8f522-1088-463f-97bb-97bf84f42cff",
        "colab": {
          "base_uri": "https://localhost:8080/",
          "height": 235
        }
      },
      "source": [
        "df.head()"
      ],
      "execution_count": 0,
      "outputs": [
        {
          "output_type": "execute_result",
          "data": {
            "text/html": [
              "<div>\n",
              "<style scoped>\n",
              "    .dataframe tbody tr th:only-of-type {\n",
              "        vertical-align: middle;\n",
              "    }\n",
              "\n",
              "    .dataframe tbody tr th {\n",
              "        vertical-align: top;\n",
              "    }\n",
              "\n",
              "    .dataframe thead th {\n",
              "        text-align: right;\n",
              "    }\n",
              "</style>\n",
              "<table border=\"1\" class=\"dataframe\">\n",
              "  <thead>\n",
              "    <tr style=\"text-align: right;\">\n",
              "      <th></th>\n",
              "      <th>Countries fintechs</th>\n",
              "      <th>Country</th>\n",
              "      <th>Year</th>\n",
              "      <th>1A</th>\n",
              "      <th>1B</th>\n",
              "      <th>1C</th>\n",
              "      <th>2A</th>\n",
              "      <th>2B</th>\n",
              "      <th>2C</th>\n",
              "      <th>2D</th>\n",
              "      <th>2E</th>\n",
              "      <th>3A</th>\n",
              "      <th>3B</th>\n",
              "      <th>3C</th>\n",
              "      <th>3D</th>\n",
              "      <th>4A</th>\n",
              "      <th>4B</th>\n",
              "      <th>5A</th>\n",
              "      <th>5B</th>\n",
              "      <th>5C</th>\n",
              "      <th>6A</th>\n",
              "    </tr>\n",
              "  </thead>\n",
              "  <tbody>\n",
              "    <tr>\n",
              "      <th>0</th>\n",
              "      <td>4</td>\n",
              "      <td>Argentina</td>\n",
              "      <td>2018</td>\n",
              "      <td>2.447560</td>\n",
              "      <td>2.805120</td>\n",
              "      <td>NaN</td>\n",
              "      <td>3.430802</td>\n",
              "      <td>NaN</td>\n",
              "      <td>3.930331</td>\n",
              "      <td>NaN</td>\n",
              "      <td>NaN</td>\n",
              "      <td>2.805120</td>\n",
              "      <td>4.085398</td>\n",
              "      <td>NaN</td>\n",
              "      <td>4.657785</td>\n",
              "      <td>78.050150</td>\n",
              "      <td>139.814600</td>\n",
              "      <td>3.377250</td>\n",
              "      <td>NaN</td>\n",
              "      <td>NaN</td>\n",
              "      <td>7.217</td>\n",
              "    </tr>\n",
              "    <tr>\n",
              "      <th>1</th>\n",
              "      <td>1</td>\n",
              "      <td>Bangladesh</td>\n",
              "      <td>2018</td>\n",
              "      <td>2.578552</td>\n",
              "      <td>3.683762</td>\n",
              "      <td>NaN</td>\n",
              "      <td>3.058403</td>\n",
              "      <td>NaN</td>\n",
              "      <td>3.716894</td>\n",
              "      <td>NaN</td>\n",
              "      <td>NaN</td>\n",
              "      <td>3.683762</td>\n",
              "      <td>3.639965</td>\n",
              "      <td>NaN</td>\n",
              "      <td>3.496264</td>\n",
              "      <td>30.039114</td>\n",
              "      <td>88.124059</td>\n",
              "      <td>3.109820</td>\n",
              "      <td>NaN</td>\n",
              "      <td>NaN</td>\n",
              "      <td>4.048</td>\n",
              "    </tr>\n",
              "    <tr>\n",
              "      <th>2</th>\n",
              "      <td>32</td>\n",
              "      <td>Brazil</td>\n",
              "      <td>2018</td>\n",
              "      <td>2.459301</td>\n",
              "      <td>3.302393</td>\n",
              "      <td>NaN</td>\n",
              "      <td>3.238514</td>\n",
              "      <td>NaN</td>\n",
              "      <td>4.089989</td>\n",
              "      <td>NaN</td>\n",
              "      <td>NaN</td>\n",
              "      <td>3.302393</td>\n",
              "      <td>4.691751</td>\n",
              "      <td>NaN</td>\n",
              "      <td>5.729115</td>\n",
              "      <td>90.236846</td>\n",
              "      <td>112.996557</td>\n",
              "      <td>3.782592</td>\n",
              "      <td>NaN</td>\n",
              "      <td>NaN</td>\n",
              "      <td>7.193</td>\n",
              "    </tr>\n",
              "    <tr>\n",
              "      <th>3</th>\n",
              "      <td>30</td>\n",
              "      <td>Canada</td>\n",
              "      <td>2018</td>\n",
              "      <td>3.689212</td>\n",
              "      <td>4.582466</td>\n",
              "      <td>NaN</td>\n",
              "      <td>4.659581</td>\n",
              "      <td>NaN</td>\n",
              "      <td>4.652790</td>\n",
              "      <td>NaN</td>\n",
              "      <td>NaN</td>\n",
              "      <td>4.582466</td>\n",
              "      <td>6.227545</td>\n",
              "      <td>NaN</td>\n",
              "      <td>6.519052</td>\n",
              "      <td>72.454314</td>\n",
              "      <td>85.895667</td>\n",
              "      <td>4.489319</td>\n",
              "      <td>NaN</td>\n",
              "      <td>NaN</td>\n",
              "      <td>7.292</td>\n",
              "    </tr>\n",
              "    <tr>\n",
              "      <th>4</th>\n",
              "      <td>1</td>\n",
              "      <td>Chile</td>\n",
              "      <td>2018</td>\n",
              "      <td>3.504282</td>\n",
              "      <td>4.101409</td>\n",
              "      <td>NaN</td>\n",
              "      <td>3.885442</td>\n",
              "      <td>NaN</td>\n",
              "      <td>3.997062</td>\n",
              "      <td>NaN</td>\n",
              "      <td>NaN</td>\n",
              "      <td>4.101409</td>\n",
              "      <td>5.646328</td>\n",
              "      <td>NaN</td>\n",
              "      <td>6.333855</td>\n",
              "      <td>88.247675</td>\n",
              "      <td>127.463286</td>\n",
              "      <td>3.518594</td>\n",
              "      <td>NaN</td>\n",
              "      <td>NaN</td>\n",
              "      <td>6.659</td>\n",
              "    </tr>\n",
              "  </tbody>\n",
              "</table>\n",
              "</div>"
            ],
            "text/plain": [
              "   Countries fintechs     Country  Year        1A  ...        5A  5B  5C     6A\n",
              "0                   4   Argentina  2018  2.447560  ...  3.377250 NaN NaN  7.217\n",
              "1                   1  Bangladesh  2018  2.578552  ...  3.109820 NaN NaN  4.048\n",
              "2                  32      Brazil  2018  2.459301  ...  3.782592 NaN NaN  7.193\n",
              "3                  30      Canada  2018  3.689212  ...  4.489319 NaN NaN  7.292\n",
              "4                   1       Chile  2018  3.504282  ...  3.518594 NaN NaN  6.659\n",
              "\n",
              "[5 rows x 21 columns]"
            ]
          },
          "metadata": {
            "tags": []
          },
          "execution_count": 16
        }
      ]
    },
    {
      "cell_type": "code",
      "metadata": {
        "id": "WzS50ATN98-D",
        "colab_type": "code",
        "outputId": "7ed30ed1-27f0-4794-a341-be710f0010bd",
        "colab": {
          "base_uri": "https://localhost:8080/",
          "height": 235
        }
      },
      "source": [
        "df = df.drop(['Country'], axis=1)\n",
        "df.head()"
      ],
      "execution_count": 0,
      "outputs": [
        {
          "output_type": "execute_result",
          "data": {
            "text/html": [
              "<div>\n",
              "<style scoped>\n",
              "    .dataframe tbody tr th:only-of-type {\n",
              "        vertical-align: middle;\n",
              "    }\n",
              "\n",
              "    .dataframe tbody tr th {\n",
              "        vertical-align: top;\n",
              "    }\n",
              "\n",
              "    .dataframe thead th {\n",
              "        text-align: right;\n",
              "    }\n",
              "</style>\n",
              "<table border=\"1\" class=\"dataframe\">\n",
              "  <thead>\n",
              "    <tr style=\"text-align: right;\">\n",
              "      <th></th>\n",
              "      <th>Countries fintechs</th>\n",
              "      <th>Year</th>\n",
              "      <th>1A</th>\n",
              "      <th>1B</th>\n",
              "      <th>1C</th>\n",
              "      <th>2A</th>\n",
              "      <th>2B</th>\n",
              "      <th>2C</th>\n",
              "      <th>2D</th>\n",
              "      <th>2E</th>\n",
              "      <th>3A</th>\n",
              "      <th>3B</th>\n",
              "      <th>3C</th>\n",
              "      <th>3D</th>\n",
              "      <th>4A</th>\n",
              "      <th>4B</th>\n",
              "      <th>5A</th>\n",
              "      <th>5B</th>\n",
              "      <th>5C</th>\n",
              "      <th>6A</th>\n",
              "    </tr>\n",
              "  </thead>\n",
              "  <tbody>\n",
              "    <tr>\n",
              "      <th>0</th>\n",
              "      <td>4</td>\n",
              "      <td>2018</td>\n",
              "      <td>2.447560</td>\n",
              "      <td>2.805120</td>\n",
              "      <td>NaN</td>\n",
              "      <td>3.430802</td>\n",
              "      <td>NaN</td>\n",
              "      <td>3.930331</td>\n",
              "      <td>NaN</td>\n",
              "      <td>NaN</td>\n",
              "      <td>2.805120</td>\n",
              "      <td>4.085398</td>\n",
              "      <td>NaN</td>\n",
              "      <td>4.657785</td>\n",
              "      <td>78.050150</td>\n",
              "      <td>139.814600</td>\n",
              "      <td>3.377250</td>\n",
              "      <td>NaN</td>\n",
              "      <td>NaN</td>\n",
              "      <td>7.217</td>\n",
              "    </tr>\n",
              "    <tr>\n",
              "      <th>1</th>\n",
              "      <td>1</td>\n",
              "      <td>2018</td>\n",
              "      <td>2.578552</td>\n",
              "      <td>3.683762</td>\n",
              "      <td>NaN</td>\n",
              "      <td>3.058403</td>\n",
              "      <td>NaN</td>\n",
              "      <td>3.716894</td>\n",
              "      <td>NaN</td>\n",
              "      <td>NaN</td>\n",
              "      <td>3.683762</td>\n",
              "      <td>3.639965</td>\n",
              "      <td>NaN</td>\n",
              "      <td>3.496264</td>\n",
              "      <td>30.039114</td>\n",
              "      <td>88.124059</td>\n",
              "      <td>3.109820</td>\n",
              "      <td>NaN</td>\n",
              "      <td>NaN</td>\n",
              "      <td>4.048</td>\n",
              "    </tr>\n",
              "    <tr>\n",
              "      <th>2</th>\n",
              "      <td>32</td>\n",
              "      <td>2018</td>\n",
              "      <td>2.459301</td>\n",
              "      <td>3.302393</td>\n",
              "      <td>NaN</td>\n",
              "      <td>3.238514</td>\n",
              "      <td>NaN</td>\n",
              "      <td>4.089989</td>\n",
              "      <td>NaN</td>\n",
              "      <td>NaN</td>\n",
              "      <td>3.302393</td>\n",
              "      <td>4.691751</td>\n",
              "      <td>NaN</td>\n",
              "      <td>5.729115</td>\n",
              "      <td>90.236846</td>\n",
              "      <td>112.996557</td>\n",
              "      <td>3.782592</td>\n",
              "      <td>NaN</td>\n",
              "      <td>NaN</td>\n",
              "      <td>7.193</td>\n",
              "    </tr>\n",
              "    <tr>\n",
              "      <th>3</th>\n",
              "      <td>30</td>\n",
              "      <td>2018</td>\n",
              "      <td>3.689212</td>\n",
              "      <td>4.582466</td>\n",
              "      <td>NaN</td>\n",
              "      <td>4.659581</td>\n",
              "      <td>NaN</td>\n",
              "      <td>4.652790</td>\n",
              "      <td>NaN</td>\n",
              "      <td>NaN</td>\n",
              "      <td>4.582466</td>\n",
              "      <td>6.227545</td>\n",
              "      <td>NaN</td>\n",
              "      <td>6.519052</td>\n",
              "      <td>72.454314</td>\n",
              "      <td>85.895667</td>\n",
              "      <td>4.489319</td>\n",
              "      <td>NaN</td>\n",
              "      <td>NaN</td>\n",
              "      <td>7.292</td>\n",
              "    </tr>\n",
              "    <tr>\n",
              "      <th>4</th>\n",
              "      <td>1</td>\n",
              "      <td>2018</td>\n",
              "      <td>3.504282</td>\n",
              "      <td>4.101409</td>\n",
              "      <td>NaN</td>\n",
              "      <td>3.885442</td>\n",
              "      <td>NaN</td>\n",
              "      <td>3.997062</td>\n",
              "      <td>NaN</td>\n",
              "      <td>NaN</td>\n",
              "      <td>4.101409</td>\n",
              "      <td>5.646328</td>\n",
              "      <td>NaN</td>\n",
              "      <td>6.333855</td>\n",
              "      <td>88.247675</td>\n",
              "      <td>127.463286</td>\n",
              "      <td>3.518594</td>\n",
              "      <td>NaN</td>\n",
              "      <td>NaN</td>\n",
              "      <td>6.659</td>\n",
              "    </tr>\n",
              "  </tbody>\n",
              "</table>\n",
              "</div>"
            ],
            "text/plain": [
              "   Countries fintechs  Year        1A        1B  ...        5A  5B  5C     6A\n",
              "0                   4  2018  2.447560  2.805120  ...  3.377250 NaN NaN  7.217\n",
              "1                   1  2018  2.578552  3.683762  ...  3.109820 NaN NaN  4.048\n",
              "2                  32  2018  2.459301  3.302393  ...  3.782592 NaN NaN  7.193\n",
              "3                  30  2018  3.689212  4.582466  ...  4.489319 NaN NaN  7.292\n",
              "4                   1  2018  3.504282  4.101409  ...  3.518594 NaN NaN  6.659\n",
              "\n",
              "[5 rows x 20 columns]"
            ]
          },
          "metadata": {
            "tags": []
          },
          "execution_count": 17
        }
      ]
    },
    {
      "cell_type": "code",
      "metadata": {
        "id": "_odkupoV8An6",
        "colab_type": "code",
        "colab": {}
      },
      "source": [
        "missing_columns = [\"1B\", \"1C\", \"2B\", \"2D\", \"2E\", \"3A\",\"3B\",\"3C\",\"4A\",\"5B\",\"5C\"]"
      ],
      "execution_count": 0,
      "outputs": []
    },
    {
      "cell_type": "markdown",
      "metadata": {
        "id": "nTW2qYPXz6_G",
        "colab_type": "text"
      },
      "source": [
        "The following command line structure were reused and readapted for this specific project from:\n",
        "https://kaggle.com/shashakasubrahmanya/missing-data-imputation-using-regression"
      ]
    },
    {
      "cell_type": "code",
      "metadata": {
        "id": "AW9gx_bV8ubT",
        "colab_type": "code",
        "colab": {}
      },
      "source": [
        "def random_imputation(df, feature):\n",
        "\n",
        "    number_missing = df[feature].isnull().sum()\n",
        "    observed_values = df.loc[df[feature].notnull(), feature]\n",
        "    df.loc[df[feature].isnull(), feature + '_imp'] = np.random.choice(observed_values, number_missing, replace = True)\n",
        "    \n",
        "    return df"
      ],
      "execution_count": 0,
      "outputs": []
    },
    {
      "cell_type": "code",
      "metadata": {
        "id": "QO9UpvHz9Fea",
        "colab_type": "code",
        "outputId": "b54ad70b-6f31-4f7b-c02c-ce1e21c5118b",
        "colab": {
          "base_uri": "https://localhost:8080/",
          "height": 727
        }
      },
      "source": [
        "deter_data = pd.DataFrame(columns = [\"Det\" + name for name in missing_columns])\n",
        "\n",
        "for feature in missing_columns:\n",
        "        \n",
        "    deter_data[\"Det\" + feature] = df[feature + \"_imp\"]\n",
        "    parameters = list(set(df.columns) - set(missing_columns) - {feature + '_imp'})\n",
        "    \n",
        "    model = linear_model.LinearRegression()\n",
        "    model.fit(X = df[parameters], y = df[feature + '_imp'])\n",
        "    \n",
        "  \n",
        "    deter_data.loc[df[feature].isnull(), \"Det\" + feature] = model.predict(df[parameters])[df[feature].isnull()]\n"
      ],
      "execution_count": 0,
      "outputs": [
        {
          "output_type": "error",
          "ename": "KeyError",
          "evalue": "ignored",
          "traceback": [
            "\u001b[0;31m---------------------------------------------------------------------------\u001b[0m",
            "\u001b[0;31mKeyError\u001b[0m                                  Traceback (most recent call last)",
            "\u001b[0;32m/usr/local/lib/python3.6/dist-packages/pandas/core/indexes/base.py\u001b[0m in \u001b[0;36mget_loc\u001b[0;34m(self, key, method, tolerance)\u001b[0m\n\u001b[1;32m   2656\u001b[0m             \u001b[0;32mtry\u001b[0m\u001b[0;34m:\u001b[0m\u001b[0;34m\u001b[0m\u001b[0;34m\u001b[0m\u001b[0m\n\u001b[0;32m-> 2657\u001b[0;31m                 \u001b[0;32mreturn\u001b[0m \u001b[0mself\u001b[0m\u001b[0;34m.\u001b[0m\u001b[0m_engine\u001b[0m\u001b[0;34m.\u001b[0m\u001b[0mget_loc\u001b[0m\u001b[0;34m(\u001b[0m\u001b[0mkey\u001b[0m\u001b[0;34m)\u001b[0m\u001b[0;34m\u001b[0m\u001b[0;34m\u001b[0m\u001b[0m\n\u001b[0m\u001b[1;32m   2658\u001b[0m             \u001b[0;32mexcept\u001b[0m \u001b[0mKeyError\u001b[0m\u001b[0;34m:\u001b[0m\u001b[0;34m\u001b[0m\u001b[0;34m\u001b[0m\u001b[0m\n",
            "\u001b[0;32mpandas/_libs/index.pyx\u001b[0m in \u001b[0;36mpandas._libs.index.IndexEngine.get_loc\u001b[0;34m()\u001b[0m\n",
            "\u001b[0;32mpandas/_libs/index.pyx\u001b[0m in \u001b[0;36mpandas._libs.index.IndexEngine.get_loc\u001b[0;34m()\u001b[0m\n",
            "\u001b[0;32mpandas/_libs/hashtable_class_helper.pxi\u001b[0m in \u001b[0;36mpandas._libs.hashtable.PyObjectHashTable.get_item\u001b[0;34m()\u001b[0m\n",
            "\u001b[0;32mpandas/_libs/hashtable_class_helper.pxi\u001b[0m in \u001b[0;36mpandas._libs.hashtable.PyObjectHashTable.get_item\u001b[0;34m()\u001b[0m\n",
            "\u001b[0;31mKeyError\u001b[0m: '1B_imp'",
            "\nDuring handling of the above exception, another exception occurred:\n",
            "\u001b[0;31mKeyError\u001b[0m                                  Traceback (most recent call last)",
            "\u001b[0;32m<ipython-input-20-763ddc69364a>\u001b[0m in \u001b[0;36m<module>\u001b[0;34m()\u001b[0m\n\u001b[1;32m      3\u001b[0m \u001b[0;32mfor\u001b[0m \u001b[0mfeature\u001b[0m \u001b[0;32min\u001b[0m \u001b[0mmissing_columns\u001b[0m\u001b[0;34m:\u001b[0m\u001b[0;34m\u001b[0m\u001b[0;34m\u001b[0m\u001b[0m\n\u001b[1;32m      4\u001b[0m \u001b[0;34m\u001b[0m\u001b[0m\n\u001b[0;32m----> 5\u001b[0;31m     \u001b[0mdeter_data\u001b[0m\u001b[0;34m[\u001b[0m\u001b[0;34m\"Det\"\u001b[0m \u001b[0;34m+\u001b[0m \u001b[0mfeature\u001b[0m\u001b[0;34m]\u001b[0m \u001b[0;34m=\u001b[0m \u001b[0mdf\u001b[0m\u001b[0;34m[\u001b[0m\u001b[0mfeature\u001b[0m \u001b[0;34m+\u001b[0m \u001b[0;34m\"_imp\"\u001b[0m\u001b[0;34m]\u001b[0m\u001b[0;34m\u001b[0m\u001b[0;34m\u001b[0m\u001b[0m\n\u001b[0m\u001b[1;32m      6\u001b[0m     \u001b[0mparameters\u001b[0m \u001b[0;34m=\u001b[0m \u001b[0mlist\u001b[0m\u001b[0;34m(\u001b[0m\u001b[0mset\u001b[0m\u001b[0;34m(\u001b[0m\u001b[0mdf\u001b[0m\u001b[0;34m.\u001b[0m\u001b[0mcolumns\u001b[0m\u001b[0;34m)\u001b[0m \u001b[0;34m-\u001b[0m \u001b[0mset\u001b[0m\u001b[0;34m(\u001b[0m\u001b[0mmissing_columns\u001b[0m\u001b[0;34m)\u001b[0m \u001b[0;34m-\u001b[0m \u001b[0;34m{\u001b[0m\u001b[0mfeature\u001b[0m \u001b[0;34m+\u001b[0m \u001b[0;34m'_imp'\u001b[0m\u001b[0;34m}\u001b[0m\u001b[0;34m)\u001b[0m\u001b[0;34m\u001b[0m\u001b[0;34m\u001b[0m\u001b[0m\n\u001b[1;32m      7\u001b[0m \u001b[0;34m\u001b[0m\u001b[0m\n",
            "\u001b[0;32m/usr/local/lib/python3.6/dist-packages/pandas/core/frame.py\u001b[0m in \u001b[0;36m__getitem__\u001b[0;34m(self, key)\u001b[0m\n\u001b[1;32m   2925\u001b[0m             \u001b[0;32mif\u001b[0m \u001b[0mself\u001b[0m\u001b[0;34m.\u001b[0m\u001b[0mcolumns\u001b[0m\u001b[0;34m.\u001b[0m\u001b[0mnlevels\u001b[0m \u001b[0;34m>\u001b[0m \u001b[0;36m1\u001b[0m\u001b[0;34m:\u001b[0m\u001b[0;34m\u001b[0m\u001b[0;34m\u001b[0m\u001b[0m\n\u001b[1;32m   2926\u001b[0m                 \u001b[0;32mreturn\u001b[0m \u001b[0mself\u001b[0m\u001b[0;34m.\u001b[0m\u001b[0m_getitem_multilevel\u001b[0m\u001b[0;34m(\u001b[0m\u001b[0mkey\u001b[0m\u001b[0;34m)\u001b[0m\u001b[0;34m\u001b[0m\u001b[0;34m\u001b[0m\u001b[0m\n\u001b[0;32m-> 2927\u001b[0;31m             \u001b[0mindexer\u001b[0m \u001b[0;34m=\u001b[0m \u001b[0mself\u001b[0m\u001b[0;34m.\u001b[0m\u001b[0mcolumns\u001b[0m\u001b[0;34m.\u001b[0m\u001b[0mget_loc\u001b[0m\u001b[0;34m(\u001b[0m\u001b[0mkey\u001b[0m\u001b[0;34m)\u001b[0m\u001b[0;34m\u001b[0m\u001b[0;34m\u001b[0m\u001b[0m\n\u001b[0m\u001b[1;32m   2928\u001b[0m             \u001b[0;32mif\u001b[0m \u001b[0mis_integer\u001b[0m\u001b[0;34m(\u001b[0m\u001b[0mindexer\u001b[0m\u001b[0;34m)\u001b[0m\u001b[0;34m:\u001b[0m\u001b[0;34m\u001b[0m\u001b[0;34m\u001b[0m\u001b[0m\n\u001b[1;32m   2929\u001b[0m                 \u001b[0mindexer\u001b[0m \u001b[0;34m=\u001b[0m \u001b[0;34m[\u001b[0m\u001b[0mindexer\u001b[0m\u001b[0;34m]\u001b[0m\u001b[0;34m\u001b[0m\u001b[0;34m\u001b[0m\u001b[0m\n",
            "\u001b[0;32m/usr/local/lib/python3.6/dist-packages/pandas/core/indexes/base.py\u001b[0m in \u001b[0;36mget_loc\u001b[0;34m(self, key, method, tolerance)\u001b[0m\n\u001b[1;32m   2657\u001b[0m                 \u001b[0;32mreturn\u001b[0m \u001b[0mself\u001b[0m\u001b[0;34m.\u001b[0m\u001b[0m_engine\u001b[0m\u001b[0;34m.\u001b[0m\u001b[0mget_loc\u001b[0m\u001b[0;34m(\u001b[0m\u001b[0mkey\u001b[0m\u001b[0;34m)\u001b[0m\u001b[0;34m\u001b[0m\u001b[0;34m\u001b[0m\u001b[0m\n\u001b[1;32m   2658\u001b[0m             \u001b[0;32mexcept\u001b[0m \u001b[0mKeyError\u001b[0m\u001b[0;34m:\u001b[0m\u001b[0;34m\u001b[0m\u001b[0;34m\u001b[0m\u001b[0m\n\u001b[0;32m-> 2659\u001b[0;31m                 \u001b[0;32mreturn\u001b[0m \u001b[0mself\u001b[0m\u001b[0;34m.\u001b[0m\u001b[0m_engine\u001b[0m\u001b[0;34m.\u001b[0m\u001b[0mget_loc\u001b[0m\u001b[0;34m(\u001b[0m\u001b[0mself\u001b[0m\u001b[0;34m.\u001b[0m\u001b[0m_maybe_cast_indexer\u001b[0m\u001b[0;34m(\u001b[0m\u001b[0mkey\u001b[0m\u001b[0;34m)\u001b[0m\u001b[0;34m)\u001b[0m\u001b[0;34m\u001b[0m\u001b[0;34m\u001b[0m\u001b[0m\n\u001b[0m\u001b[1;32m   2660\u001b[0m         \u001b[0mindexer\u001b[0m \u001b[0;34m=\u001b[0m \u001b[0mself\u001b[0m\u001b[0;34m.\u001b[0m\u001b[0mget_indexer\u001b[0m\u001b[0;34m(\u001b[0m\u001b[0;34m[\u001b[0m\u001b[0mkey\u001b[0m\u001b[0;34m]\u001b[0m\u001b[0;34m,\u001b[0m \u001b[0mmethod\u001b[0m\u001b[0;34m=\u001b[0m\u001b[0mmethod\u001b[0m\u001b[0;34m,\u001b[0m \u001b[0mtolerance\u001b[0m\u001b[0;34m=\u001b[0m\u001b[0mtolerance\u001b[0m\u001b[0;34m)\u001b[0m\u001b[0;34m\u001b[0m\u001b[0;34m\u001b[0m\u001b[0m\n\u001b[1;32m   2661\u001b[0m         \u001b[0;32mif\u001b[0m \u001b[0mindexer\u001b[0m\u001b[0;34m.\u001b[0m\u001b[0mndim\u001b[0m \u001b[0;34m>\u001b[0m \u001b[0;36m1\u001b[0m \u001b[0;32mor\u001b[0m \u001b[0mindexer\u001b[0m\u001b[0;34m.\u001b[0m\u001b[0msize\u001b[0m \u001b[0;34m>\u001b[0m \u001b[0;36m1\u001b[0m\u001b[0;34m:\u001b[0m\u001b[0;34m\u001b[0m\u001b[0;34m\u001b[0m\u001b[0m\n",
            "\u001b[0;32mpandas/_libs/index.pyx\u001b[0m in \u001b[0;36mpandas._libs.index.IndexEngine.get_loc\u001b[0;34m()\u001b[0m\n",
            "\u001b[0;32mpandas/_libs/index.pyx\u001b[0m in \u001b[0;36mpandas._libs.index.IndexEngine.get_loc\u001b[0;34m()\u001b[0m\n",
            "\u001b[0;32mpandas/_libs/hashtable_class_helper.pxi\u001b[0m in \u001b[0;36mpandas._libs.hashtable.PyObjectHashTable.get_item\u001b[0;34m()\u001b[0m\n",
            "\u001b[0;32mpandas/_libs/hashtable_class_helper.pxi\u001b[0m in \u001b[0;36mpandas._libs.hashtable.PyObjectHashTable.get_item\u001b[0;34m()\u001b[0m\n",
            "\u001b[0;31mKeyError\u001b[0m: '1B_imp'"
          ]
        }
      ]
    },
    {
      "cell_type": "code",
      "metadata": {
        "id": "2OHwNJpD9eac",
        "colab_type": "code",
        "outputId": "7e13324a-31c5-41e5-cfed-0db21edd457c",
        "colab": {
          "base_uri": "https://localhost:8080/",
          "height": 48
        }
      },
      "source": [
        "deter_data.head(20)"
      ],
      "execution_count": 0,
      "outputs": [
        {
          "output_type": "execute_result",
          "data": {
            "text/html": [
              "<div>\n",
              "<style scoped>\n",
              "    .dataframe tbody tr th:only-of-type {\n",
              "        vertical-align: middle;\n",
              "    }\n",
              "\n",
              "    .dataframe tbody tr th {\n",
              "        vertical-align: top;\n",
              "    }\n",
              "\n",
              "    .dataframe thead th {\n",
              "        text-align: right;\n",
              "    }\n",
              "</style>\n",
              "<table border=\"1\" class=\"dataframe\">\n",
              "  <thead>\n",
              "    <tr style=\"text-align: right;\">\n",
              "      <th></th>\n",
              "      <th>Det1B</th>\n",
              "      <th>Det1C</th>\n",
              "      <th>Det2B</th>\n",
              "      <th>Det2D</th>\n",
              "      <th>Det2E</th>\n",
              "      <th>Det3A</th>\n",
              "      <th>Det3B</th>\n",
              "      <th>Det3C</th>\n",
              "      <th>Det4A</th>\n",
              "      <th>Det5B</th>\n",
              "      <th>Det5C</th>\n",
              "    </tr>\n",
              "  </thead>\n",
              "  <tbody>\n",
              "  </tbody>\n",
              "</table>\n",
              "</div>"
            ],
            "text/plain": [
              "Empty DataFrame\n",
              "Columns: [Det1B, Det1C, Det2B, Det2D, Det2E, Det3A, Det3B, Det3C, Det4A, Det5B, Det5C]\n",
              "Index: []"
            ]
          },
          "metadata": {
            "tags": []
          },
          "execution_count": 12
        }
      ]
    },
    {
      "cell_type": "code",
      "metadata": {
        "id": "eDYg-znH-epr",
        "colab_type": "code",
        "outputId": "a7d0d435-bc41-499c-cafd-bca8c3a6166b",
        "colab": {
          "base_uri": "https://localhost:8080/",
          "height": 308
        }
      },
      "source": [
        "deter_data.describe()"
      ],
      "execution_count": 0,
      "outputs": [
        {
          "output_type": "execute_result",
          "data": {
            "text/html": [
              "<div>\n",
              "<style scoped>\n",
              "    .dataframe tbody tr th:only-of-type {\n",
              "        vertical-align: middle;\n",
              "    }\n",
              "\n",
              "    .dataframe tbody tr th {\n",
              "        vertical-align: top;\n",
              "    }\n",
              "\n",
              "    .dataframe thead th {\n",
              "        text-align: right;\n",
              "    }\n",
              "</style>\n",
              "<table border=\"1\" class=\"dataframe\">\n",
              "  <thead>\n",
              "    <tr style=\"text-align: right;\">\n",
              "      <th></th>\n",
              "      <th>Det1B</th>\n",
              "      <th>Det1C</th>\n",
              "      <th>Det2B</th>\n",
              "      <th>Det2D</th>\n",
              "      <th>Det2E</th>\n",
              "      <th>Det3A</th>\n",
              "      <th>Det3B</th>\n",
              "      <th>Det3C</th>\n",
              "      <th>Det4A</th>\n",
              "      <th>Det5B</th>\n",
              "      <th>Det5C</th>\n",
              "    </tr>\n",
              "  </thead>\n",
              "  <tbody>\n",
              "    <tr>\n",
              "      <th>count</th>\n",
              "      <td>170.000000</td>\n",
              "      <td>170.000000</td>\n",
              "      <td>170.000000</td>\n",
              "      <td>170.000000</td>\n",
              "      <td>170.000000</td>\n",
              "      <td>170.000000</td>\n",
              "      <td>170.000000</td>\n",
              "      <td>170.000000</td>\n",
              "      <td>170.000000</td>\n",
              "      <td>170.000000</td>\n",
              "      <td>170.000000</td>\n",
              "    </tr>\n",
              "    <tr>\n",
              "      <th>mean</th>\n",
              "      <td>4.563793</td>\n",
              "      <td>4.417471</td>\n",
              "      <td>4.205251</td>\n",
              "      <td>4.696211</td>\n",
              "      <td>40.385102</td>\n",
              "      <td>4.590673</td>\n",
              "      <td>4.481754</td>\n",
              "      <td>3.067720</td>\n",
              "      <td>39.184886</td>\n",
              "      <td>5.433185</td>\n",
              "      <td>28.774142</td>\n",
              "    </tr>\n",
              "    <tr>\n",
              "      <th>std</th>\n",
              "      <td>0.823135</td>\n",
              "      <td>0.629801</td>\n",
              "      <td>1.014360</td>\n",
              "      <td>0.483970</td>\n",
              "      <td>23.293090</td>\n",
              "      <td>0.877861</td>\n",
              "      <td>0.690610</td>\n",
              "      <td>0.630402</td>\n",
              "      <td>27.664759</td>\n",
              "      <td>0.541235</td>\n",
              "      <td>11.263432</td>\n",
              "    </tr>\n",
              "    <tr>\n",
              "      <th>min</th>\n",
              "      <td>2.713680</td>\n",
              "      <td>2.922948</td>\n",
              "      <td>1.557793</td>\n",
              "      <td>2.994854</td>\n",
              "      <td>0.311554</td>\n",
              "      <td>2.713680</td>\n",
              "      <td>2.922948</td>\n",
              "      <td>1.672877</td>\n",
              "      <td>0.190000</td>\n",
              "      <td>4.221145</td>\n",
              "      <td>1.847230</td>\n",
              "    </tr>\n",
              "    <tr>\n",
              "      <th>25%</th>\n",
              "      <td>3.927523</td>\n",
              "      <td>3.997338</td>\n",
              "      <td>3.545780</td>\n",
              "      <td>4.491938</td>\n",
              "      <td>21.821231</td>\n",
              "      <td>3.927523</td>\n",
              "      <td>4.011467</td>\n",
              "      <td>2.627982</td>\n",
              "      <td>20.937568</td>\n",
              "      <td>5.035579</td>\n",
              "      <td>21.237750</td>\n",
              "    </tr>\n",
              "    <tr>\n",
              "      <th>50%</th>\n",
              "      <td>4.582860</td>\n",
              "      <td>4.452300</td>\n",
              "      <td>4.101992</td>\n",
              "      <td>4.801567</td>\n",
              "      <td>39.755819</td>\n",
              "      <td>4.576509</td>\n",
              "      <td>4.561109</td>\n",
              "      <td>3.078408</td>\n",
              "      <td>32.584657</td>\n",
              "      <td>5.314801</td>\n",
              "      <td>27.842587</td>\n",
              "    </tr>\n",
              "    <tr>\n",
              "      <th>75%</th>\n",
              "      <td>5.081988</td>\n",
              "      <td>4.871723</td>\n",
              "      <td>4.711361</td>\n",
              "      <td>5.039411</td>\n",
              "      <td>53.873071</td>\n",
              "      <td>5.091494</td>\n",
              "      <td>4.902056</td>\n",
              "      <td>3.574284</td>\n",
              "      <td>49.917824</td>\n",
              "      <td>5.808642</td>\n",
              "      <td>35.115279</td>\n",
              "    </tr>\n",
              "    <tr>\n",
              "      <th>max</th>\n",
              "      <td>6.406627</td>\n",
              "      <td>5.826403</td>\n",
              "      <td>6.269771</td>\n",
              "      <td>5.776374</td>\n",
              "      <td>87.360000</td>\n",
              "      <td>6.425532</td>\n",
              "      <td>6.308228</td>\n",
              "      <td>4.792845</td>\n",
              "      <td>132.910286</td>\n",
              "      <td>6.743439</td>\n",
              "      <td>58.122132</td>\n",
              "    </tr>\n",
              "  </tbody>\n",
              "</table>\n",
              "</div>"
            ],
            "text/plain": [
              "            Det1B       Det1C       Det2B  ...       Det4A       Det5B       Det5C\n",
              "count  170.000000  170.000000  170.000000  ...  170.000000  170.000000  170.000000\n",
              "mean     4.563793    4.417471    4.205251  ...   39.184886    5.433185   28.774142\n",
              "std      0.823135    0.629801    1.014360  ...   27.664759    0.541235   11.263432\n",
              "min      2.713680    2.922948    1.557793  ...    0.190000    4.221145    1.847230\n",
              "25%      3.927523    3.997338    3.545780  ...   20.937568    5.035579   21.237750\n",
              "50%      4.582860    4.452300    4.101992  ...   32.584657    5.314801   27.842587\n",
              "75%      5.081988    4.871723    4.711361  ...   49.917824    5.808642   35.115279\n",
              "max      6.406627    5.826403    6.269771  ...  132.910286    6.743439   58.122132\n",
              "\n",
              "[8 rows x 11 columns]"
            ]
          },
          "metadata": {
            "tags": []
          },
          "execution_count": 124
        }
      ]
    },
    {
      "cell_type": "code",
      "metadata": {
        "id": "Vq4liz2h_J7r",
        "colab_type": "code",
        "colab": {}
      },
      "source": [
        "df_complete = pd.read_csv('/content/Imanol_mastersheet - Sheet3.csv')"
      ],
      "execution_count": 0,
      "outputs": []
    },
    {
      "cell_type": "code",
      "metadata": {
        "id": "v2bPEDRDBGX4",
        "colab_type": "code",
        "colab": {}
      },
      "source": [
        "df_complete = df_complete[['Country','Year', '1A','2A','2C','3D','4B','5A','6A']]"
      ],
      "execution_count": 0,
      "outputs": []
    },
    {
      "cell_type": "code",
      "metadata": {
        "id": "gWb89ib4BU9J",
        "colab_type": "code",
        "outputId": "87b1e88f-27ee-44e5-e4c5-a57ce4b16cc7",
        "colab": {
          "base_uri": "https://localhost:8080/",
          "height": 175
        }
      },
      "source": [
        "df_Imanol = pd.concat([df_complete,deter_data])"
      ],
      "execution_count": 0,
      "outputs": [
        {
          "output_type": "stream",
          "text": [
            "/usr/local/lib/python3.6/dist-packages/ipykernel_launcher.py:1: FutureWarning: Sorting because non-concatenation axis is not aligned. A future version\n",
            "of pandas will change to not sort by default.\n",
            "\n",
            "To accept the future behavior, pass 'sort=False'.\n",
            "\n",
            "To retain the current behavior and silence the warning, pass 'sort=True'.\n",
            "\n",
            "  \"\"\"Entry point for launching an IPython kernel.\n"
          ],
          "name": "stderr"
        }
      ]
    },
    {
      "cell_type": "code",
      "metadata": {
        "id": "gjAAvX_ACXEE",
        "colab_type": "code",
        "outputId": "a8e50098-7f0c-4360-ae7c-7db9f7e7826c",
        "colab": {
          "base_uri": "https://localhost:8080/",
          "height": 198
        }
      },
      "source": [
        "df_complete.head()"
      ],
      "execution_count": 0,
      "outputs": [
        {
          "output_type": "execute_result",
          "data": {
            "text/html": [
              "<div>\n",
              "<style scoped>\n",
              "    .dataframe tbody tr th:only-of-type {\n",
              "        vertical-align: middle;\n",
              "    }\n",
              "\n",
              "    .dataframe tbody tr th {\n",
              "        vertical-align: top;\n",
              "    }\n",
              "\n",
              "    .dataframe thead th {\n",
              "        text-align: right;\n",
              "    }\n",
              "</style>\n",
              "<table border=\"1\" class=\"dataframe\">\n",
              "  <thead>\n",
              "    <tr style=\"text-align: right;\">\n",
              "      <th></th>\n",
              "      <th>Country</th>\n",
              "      <th>Year</th>\n",
              "      <th>1A</th>\n",
              "      <th>2A</th>\n",
              "      <th>2C</th>\n",
              "      <th>3D</th>\n",
              "      <th>4B</th>\n",
              "      <th>5A</th>\n",
              "      <th>6A</th>\n",
              "    </tr>\n",
              "  </thead>\n",
              "  <tbody>\n",
              "    <tr>\n",
              "      <th>0</th>\n",
              "      <td>Argentina</td>\n",
              "      <td>2018</td>\n",
              "      <td>2.447560</td>\n",
              "      <td>3.430802</td>\n",
              "      <td>3.930331</td>\n",
              "      <td>4.657785</td>\n",
              "      <td>139.814600</td>\n",
              "      <td>3.377250</td>\n",
              "      <td>7.217</td>\n",
              "    </tr>\n",
              "    <tr>\n",
              "      <th>1</th>\n",
              "      <td>Bangladesh</td>\n",
              "      <td>2018</td>\n",
              "      <td>2.578552</td>\n",
              "      <td>3.058403</td>\n",
              "      <td>3.716894</td>\n",
              "      <td>3.496264</td>\n",
              "      <td>88.124059</td>\n",
              "      <td>3.109820</td>\n",
              "      <td>4.048</td>\n",
              "    </tr>\n",
              "    <tr>\n",
              "      <th>2</th>\n",
              "      <td>Brazil</td>\n",
              "      <td>2018</td>\n",
              "      <td>2.459301</td>\n",
              "      <td>3.238514</td>\n",
              "      <td>4.089989</td>\n",
              "      <td>5.729115</td>\n",
              "      <td>112.996557</td>\n",
              "      <td>3.782592</td>\n",
              "      <td>7.193</td>\n",
              "    </tr>\n",
              "    <tr>\n",
              "      <th>3</th>\n",
              "      <td>Canada</td>\n",
              "      <td>2018</td>\n",
              "      <td>3.689212</td>\n",
              "      <td>4.659581</td>\n",
              "      <td>4.652790</td>\n",
              "      <td>6.519052</td>\n",
              "      <td>85.895667</td>\n",
              "      <td>4.489319</td>\n",
              "      <td>7.292</td>\n",
              "    </tr>\n",
              "    <tr>\n",
              "      <th>4</th>\n",
              "      <td>Chile</td>\n",
              "      <td>2018</td>\n",
              "      <td>3.504282</td>\n",
              "      <td>3.885442</td>\n",
              "      <td>3.997062</td>\n",
              "      <td>6.333855</td>\n",
              "      <td>127.463286</td>\n",
              "      <td>3.518594</td>\n",
              "      <td>6.659</td>\n",
              "    </tr>\n",
              "  </tbody>\n",
              "</table>\n",
              "</div>"
            ],
            "text/plain": [
              "      Country  Year        1A        2A  ...        3D          4B        5A     6A\n",
              "0   Argentina  2018  2.447560  3.430802  ...  4.657785  139.814600  3.377250  7.217\n",
              "1  Bangladesh  2018  2.578552  3.058403  ...  3.496264   88.124059  3.109820  4.048\n",
              "2      Brazil  2018  2.459301  3.238514  ...  5.729115  112.996557  3.782592  7.193\n",
              "3      Canada  2018  3.689212  4.659581  ...  6.519052   85.895667  4.489319  7.292\n",
              "4       Chile  2018  3.504282  3.885442  ...  6.333855  127.463286  3.518594  6.659\n",
              "\n",
              "[5 rows x 9 columns]"
            ]
          },
          "metadata": {
            "tags": []
          },
          "execution_count": 141
        }
      ]
    },
    {
      "cell_type": "code",
      "metadata": {
        "id": "4QIvM7ddEWio",
        "colab_type": "code",
        "outputId": "00a3219a-d10c-4e29-b9de-53e92bc3ab4b",
        "colab": {
          "base_uri": "https://localhost:8080/",
          "height": 218
        }
      },
      "source": [
        "deter_data.head()"
      ],
      "execution_count": 0,
      "outputs": [
        {
          "output_type": "execute_result",
          "data": {
            "text/html": [
              "<div>\n",
              "<style scoped>\n",
              "    .dataframe tbody tr th:only-of-type {\n",
              "        vertical-align: middle;\n",
              "    }\n",
              "\n",
              "    .dataframe tbody tr th {\n",
              "        vertical-align: top;\n",
              "    }\n",
              "\n",
              "    .dataframe thead th {\n",
              "        text-align: right;\n",
              "    }\n",
              "</style>\n",
              "<table border=\"1\" class=\"dataframe\">\n",
              "  <thead>\n",
              "    <tr style=\"text-align: right;\">\n",
              "      <th></th>\n",
              "      <th>Det1B</th>\n",
              "      <th>Det1C</th>\n",
              "      <th>Det2B</th>\n",
              "      <th>Det2D</th>\n",
              "      <th>Det2E</th>\n",
              "      <th>Det3A</th>\n",
              "      <th>Det3B</th>\n",
              "      <th>Det3C</th>\n",
              "      <th>Det4A</th>\n",
              "      <th>Det5B</th>\n",
              "      <th>Det5C</th>\n",
              "    </tr>\n",
              "  </thead>\n",
              "  <tbody>\n",
              "    <tr>\n",
              "      <th>0</th>\n",
              "      <td>2.805120</td>\n",
              "      <td>4.061309</td>\n",
              "      <td>4.195683</td>\n",
              "      <td>4.613002</td>\n",
              "      <td>57.310511</td>\n",
              "      <td>2.805120</td>\n",
              "      <td>4.085398</td>\n",
              "      <td>3.137428</td>\n",
              "      <td>78.050150</td>\n",
              "      <td>5.170746</td>\n",
              "      <td>31.000048</td>\n",
              "    </tr>\n",
              "    <tr>\n",
              "      <th>1</th>\n",
              "      <td>3.683762</td>\n",
              "      <td>4.117619</td>\n",
              "      <td>3.355734</td>\n",
              "      <td>4.730967</td>\n",
              "      <td>29.824851</td>\n",
              "      <td>3.683762</td>\n",
              "      <td>3.639965</td>\n",
              "      <td>3.037019</td>\n",
              "      <td>30.039114</td>\n",
              "      <td>4.949509</td>\n",
              "      <td>35.176705</td>\n",
              "    </tr>\n",
              "    <tr>\n",
              "      <th>2</th>\n",
              "      <td>3.302393</td>\n",
              "      <td>4.566283</td>\n",
              "      <td>4.296651</td>\n",
              "      <td>4.598994</td>\n",
              "      <td>49.320929</td>\n",
              "      <td>3.302393</td>\n",
              "      <td>4.691751</td>\n",
              "      <td>2.703921</td>\n",
              "      <td>90.236846</td>\n",
              "      <td>5.196036</td>\n",
              "      <td>22.598120</td>\n",
              "    </tr>\n",
              "    <tr>\n",
              "      <th>3</th>\n",
              "      <td>4.582466</td>\n",
              "      <td>5.105235</td>\n",
              "      <td>4.638758</td>\n",
              "      <td>4.685475</td>\n",
              "      <td>33.428082</td>\n",
              "      <td>4.582466</td>\n",
              "      <td>6.227545</td>\n",
              "      <td>2.984595</td>\n",
              "      <td>72.454314</td>\n",
              "      <td>6.075442</td>\n",
              "      <td>12.395334</td>\n",
              "    </tr>\n",
              "    <tr>\n",
              "      <th>4</th>\n",
              "      <td>4.101409</td>\n",
              "      <td>3.883189</td>\n",
              "      <td>3.263582</td>\n",
              "      <td>4.922818</td>\n",
              "      <td>59.537574</td>\n",
              "      <td>4.101409</td>\n",
              "      <td>5.646328</td>\n",
              "      <td>3.370471</td>\n",
              "      <td>88.247675</td>\n",
              "      <td>5.021656</td>\n",
              "      <td>41.484608</td>\n",
              "    </tr>\n",
              "  </tbody>\n",
              "</table>\n",
              "</div>"
            ],
            "text/plain": [
              "      Det1B     Det1C     Det2B  ...      Det4A     Det5B      Det5C\n",
              "0  2.805120  4.061309  4.195683  ...  78.050150  5.170746  31.000048\n",
              "1  3.683762  4.117619  3.355734  ...  30.039114  4.949509  35.176705\n",
              "2  3.302393  4.566283  4.296651  ...  90.236846  5.196036  22.598120\n",
              "3  4.582466  5.105235  4.638758  ...  72.454314  6.075442  12.395334\n",
              "4  4.101409  3.883189  3.263582  ...  88.247675  5.021656  41.484608\n",
              "\n",
              "[5 rows x 11 columns]"
            ]
          },
          "metadata": {
            "tags": []
          },
          "execution_count": 142
        }
      ]
    },
    {
      "cell_type": "code",
      "metadata": {
        "id": "4WWhmPogFJyn",
        "colab_type": "code",
        "outputId": "e5dabbaa-0bb6-47e7-a54d-54d264e4db7e",
        "colab": {
          "base_uri": "https://localhost:8080/",
          "height": 175
        }
      },
      "source": [
        "df_Imanol = pd.concat([df_complete, deter_data])"
      ],
      "execution_count": 0,
      "outputs": [
        {
          "output_type": "stream",
          "text": [
            "/usr/local/lib/python3.6/dist-packages/ipykernel_launcher.py:1: FutureWarning: Sorting because non-concatenation axis is not aligned. A future version\n",
            "of pandas will change to not sort by default.\n",
            "\n",
            "To accept the future behavior, pass 'sort=False'.\n",
            "\n",
            "To retain the current behavior and silence the warning, pass 'sort=True'.\n",
            "\n",
            "  \"\"\"Entry point for launching an IPython kernel.\n"
          ],
          "name": "stderr"
        }
      ]
    },
    {
      "cell_type": "code",
      "metadata": {
        "id": "C9TH4zooF8qi",
        "colab_type": "code",
        "colab": {}
      },
      "source": [
        "from google.colab import files\n",
        "\n",
        "deter_data.to_csv('deter_data.csv')\n",
        "files.download('deter_data.csv')"
      ],
      "execution_count": 0,
      "outputs": []
    },
    {
      "cell_type": "markdown",
      "metadata": {
        "id": "F2StqLEuHvK6",
        "colab_type": "text"
      },
      "source": [
        "Erase this"
      ]
    },
    {
      "cell_type": "code",
      "metadata": {
        "id": "7IOGlsmqIMhD",
        "colab_type": "code",
        "colab": {}
      },
      "source": [
        ""
      ],
      "execution_count": 0,
      "outputs": []
    }
  ]
}