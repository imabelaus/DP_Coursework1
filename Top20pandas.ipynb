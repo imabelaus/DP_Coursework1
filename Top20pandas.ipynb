{
  "nbformat": 4,
  "nbformat_minor": 0,
  "metadata": {
    "colab": {
      "name": "Top20pandas.ipynb",
      "provenance": [],
      "include_colab_link": true
    },
    "kernelspec": {
      "name": "python3",
      "display_name": "Python 3"
    }
  },
  "cells": [
    {
      "cell_type": "markdown",
      "metadata": {
        "id": "view-in-github",
        "colab_type": "text"
      },
      "source": [
        "<a href=\"https://colab.research.google.com/github/imabelaus/Miscelanious/blob/master/Top20pandas.ipynb\" target=\"_parent\"><img src=\"https://colab.research.google.com/assets/colab-badge.svg\" alt=\"Open In Colab\"/></a>"
      ]
    },
    {
      "cell_type": "markdown",
      "metadata": {
        "id": "_rJi0oSB6n8k",
        "colab_type": "text"
      },
      "source": [
        "### 20 Highly used functions in Python's Pandas! "
      ]
    },
    {
      "cell_type": "markdown",
      "metadata": {
        "id": "lrnMkYtStRCt",
        "colab_type": "text"
      },
      "source": [
        "1. Download packages"
      ]
    },
    {
      "cell_type": "code",
      "metadata": {
        "id": "WV9zCdc-wkfW",
        "colab_type": "code",
        "colab": {}
      },
      "source": [
        "import pandas as pd\n",
        "import numpy as np"
      ],
      "execution_count": 0,
      "outputs": []
    },
    {
      "cell_type": "markdown",
      "metadata": {
        "id": "NqYnp4tDtUyD",
        "colab_type": "text"
      },
      "source": [
        "2. Download a CSV file"
      ]
    },
    {
      "cell_type": "code",
      "metadata": {
        "id": "4GFQtzzRn2S0",
        "colab_type": "code",
        "colab": {}
      },
      "source": [
        "df = pd.read_csv(\"/content/try - Sheet1.csv\")"
      ],
      "execution_count": 0,
      "outputs": []
    },
    {
      "cell_type": "markdown",
      "metadata": {
        "id": "apegarLatcqe",
        "colab_type": "text"
      },
      "source": [
        "3. Display table"
      ]
    },
    {
      "cell_type": "code",
      "metadata": {
        "id": "dkk1fA1Hvh8b",
        "colab_type": "code",
        "colab": {
          "base_uri": "https://localhost:8080/",
          "height": 1000
        },
        "outputId": "7301ecfb-ff38-4060-daf3-a57eb425a855"
      },
      "source": [
        "df"
      ],
      "execution_count": 3,
      "outputs": [
        {
          "output_type": "execute_result",
          "data": {
            "text/html": [
              "<div>\n",
              "<style scoped>\n",
              "    .dataframe tbody tr th:only-of-type {\n",
              "        vertical-align: middle;\n",
              "    }\n",
              "\n",
              "    .dataframe tbody tr th {\n",
              "        vertical-align: top;\n",
              "    }\n",
              "\n",
              "    .dataframe thead th {\n",
              "        text-align: right;\n",
              "    }\n",
              "</style>\n",
              "<table border=\"1\" class=\"dataframe\">\n",
              "  <thead>\n",
              "    <tr style=\"text-align: right;\">\n",
              "      <th></th>\n",
              "      <th>Y</th>\n",
              "      <th>X1</th>\n",
              "      <th>X2</th>\n",
              "      <th>X3</th>\n",
              "      <th>X4</th>\n",
              "    </tr>\n",
              "  </thead>\n",
              "  <tbody>\n",
              "    <tr>\n",
              "      <th>0</th>\n",
              "      <td>1</td>\n",
              "      <td>0.716347</td>\n",
              "      <td>0.063565</td>\n",
              "      <td>0.977043</td>\n",
              "      <td>0.178429</td>\n",
              "    </tr>\n",
              "    <tr>\n",
              "      <th>1</th>\n",
              "      <td>1</td>\n",
              "      <td>0.932094</td>\n",
              "      <td>0.539502</td>\n",
              "      <td>0.752759</td>\n",
              "      <td>0.606651</td>\n",
              "    </tr>\n",
              "    <tr>\n",
              "      <th>2</th>\n",
              "      <td>0</td>\n",
              "      <td>0.110050</td>\n",
              "      <td>0.150955</td>\n",
              "      <td>0.103875</td>\n",
              "      <td>0.796365</td>\n",
              "    </tr>\n",
              "    <tr>\n",
              "      <th>3</th>\n",
              "      <td>0</td>\n",
              "      <td>0.580651</td>\n",
              "      <td>0.503657</td>\n",
              "      <td>0.195465</td>\n",
              "      <td>0.671641</td>\n",
              "    </tr>\n",
              "    <tr>\n",
              "      <th>4</th>\n",
              "      <td>0</td>\n",
              "      <td>0.512752</td>\n",
              "      <td>0.626403</td>\n",
              "      <td>0.687458</td>\n",
              "      <td>0.294036</td>\n",
              "    </tr>\n",
              "    <tr>\n",
              "      <th>5</th>\n",
              "      <td>0</td>\n",
              "      <td>0.089408</td>\n",
              "      <td>0.255870</td>\n",
              "      <td>0.783725</td>\n",
              "      <td>0.397538</td>\n",
              "    </tr>\n",
              "    <tr>\n",
              "      <th>6</th>\n",
              "      <td>1</td>\n",
              "      <td>0.525372</td>\n",
              "      <td>0.395297</td>\n",
              "      <td>0.535168</td>\n",
              "      <td>0.074279</td>\n",
              "    </tr>\n",
              "    <tr>\n",
              "      <th>7</th>\n",
              "      <td>1</td>\n",
              "      <td>0.920111</td>\n",
              "      <td>0.541020</td>\n",
              "      <td>0.007593</td>\n",
              "      <td>0.082287</td>\n",
              "    </tr>\n",
              "    <tr>\n",
              "      <th>8</th>\n",
              "      <td>1</td>\n",
              "      <td>0.859581</td>\n",
              "      <td>0.357554</td>\n",
              "      <td>0.800343</td>\n",
              "      <td>0.945113</td>\n",
              "    </tr>\n",
              "    <tr>\n",
              "      <th>9</th>\n",
              "      <td>1</td>\n",
              "      <td>0.364579</td>\n",
              "      <td>0.961758</td>\n",
              "      <td>0.789386</td>\n",
              "      <td>0.221178</td>\n",
              "    </tr>\n",
              "    <tr>\n",
              "      <th>10</th>\n",
              "      <td>0</td>\n",
              "      <td>0.124286</td>\n",
              "      <td>0.262778</td>\n",
              "      <td>0.512493</td>\n",
              "      <td>0.934918</td>\n",
              "    </tr>\n",
              "    <tr>\n",
              "      <th>11</th>\n",
              "      <td>0</td>\n",
              "      <td>0.950713</td>\n",
              "      <td>0.996832</td>\n",
              "      <td>0.314328</td>\n",
              "      <td>0.182351</td>\n",
              "    </tr>\n",
              "    <tr>\n",
              "      <th>12</th>\n",
              "      <td>0</td>\n",
              "      <td>0.043069</td>\n",
              "      <td>0.194549</td>\n",
              "      <td>0.225729</td>\n",
              "      <td>0.350417</td>\n",
              "    </tr>\n",
              "    <tr>\n",
              "      <th>13</th>\n",
              "      <td>1</td>\n",
              "      <td>0.960627</td>\n",
              "      <td>0.823424</td>\n",
              "      <td>0.564145</td>\n",
              "      <td>0.222452</td>\n",
              "    </tr>\n",
              "    <tr>\n",
              "      <th>14</th>\n",
              "      <td>1</td>\n",
              "      <td>0.168521</td>\n",
              "      <td>0.259133</td>\n",
              "      <td>0.411147</td>\n",
              "      <td>0.481448</td>\n",
              "    </tr>\n",
              "    <tr>\n",
              "      <th>15</th>\n",
              "      <td>0</td>\n",
              "      <td>0.642934</td>\n",
              "      <td>0.056786</td>\n",
              "      <td>0.448122</td>\n",
              "      <td>0.768208</td>\n",
              "    </tr>\n",
              "    <tr>\n",
              "      <th>16</th>\n",
              "      <td>1</td>\n",
              "      <td>0.300489</td>\n",
              "      <td>0.216866</td>\n",
              "      <td>0.112701</td>\n",
              "      <td>0.503303</td>\n",
              "    </tr>\n",
              "    <tr>\n",
              "      <th>17</th>\n",
              "      <td>0</td>\n",
              "      <td>0.951214</td>\n",
              "      <td>0.770457</td>\n",
              "      <td>0.676175</td>\n",
              "      <td>0.139730</td>\n",
              "    </tr>\n",
              "    <tr>\n",
              "      <th>18</th>\n",
              "      <td>1</td>\n",
              "      <td>0.065269</td>\n",
              "      <td>0.044519</td>\n",
              "      <td>0.636096</td>\n",
              "      <td>0.377423</td>\n",
              "    </tr>\n",
              "    <tr>\n",
              "      <th>19</th>\n",
              "      <td>1</td>\n",
              "      <td>0.890700</td>\n",
              "      <td>0.410336</td>\n",
              "      <td>0.768448</td>\n",
              "      <td>0.141294</td>\n",
              "    </tr>\n",
              "    <tr>\n",
              "      <th>20</th>\n",
              "      <td>1</td>\n",
              "      <td>0.362795</td>\n",
              "      <td>0.666903</td>\n",
              "      <td>0.290232</td>\n",
              "      <td>0.801219</td>\n",
              "    </tr>\n",
              "    <tr>\n",
              "      <th>21</th>\n",
              "      <td>0</td>\n",
              "      <td>0.805210</td>\n",
              "      <td>0.465898</td>\n",
              "      <td>0.845987</td>\n",
              "      <td>0.195403</td>\n",
              "    </tr>\n",
              "    <tr>\n",
              "      <th>22</th>\n",
              "      <td>1</td>\n",
              "      <td>0.638819</td>\n",
              "      <td>0.346017</td>\n",
              "      <td>0.450734</td>\n",
              "      <td>0.507819</td>\n",
              "    </tr>\n",
              "    <tr>\n",
              "      <th>23</th>\n",
              "      <td>0</td>\n",
              "      <td>0.186351</td>\n",
              "      <td>0.011836</td>\n",
              "      <td>0.097006</td>\n",
              "      <td>0.945907</td>\n",
              "    </tr>\n",
              "    <tr>\n",
              "      <th>24</th>\n",
              "      <td>1</td>\n",
              "      <td>0.189154</td>\n",
              "      <td>0.465998</td>\n",
              "      <td>0.465090</td>\n",
              "      <td>0.466503</td>\n",
              "    </tr>\n",
              "    <tr>\n",
              "      <th>25</th>\n",
              "      <td>0</td>\n",
              "      <td>0.837044</td>\n",
              "      <td>0.483397</td>\n",
              "      <td>0.063285</td>\n",
              "      <td>0.505949</td>\n",
              "    </tr>\n",
              "    <tr>\n",
              "      <th>26</th>\n",
              "      <td>0</td>\n",
              "      <td>0.952977</td>\n",
              "      <td>0.702173</td>\n",
              "      <td>0.168939</td>\n",
              "      <td>0.784613</td>\n",
              "    </tr>\n",
              "    <tr>\n",
              "      <th>27</th>\n",
              "      <td>0</td>\n",
              "      <td>0.471375</td>\n",
              "      <td>0.298713</td>\n",
              "      <td>0.141223</td>\n",
              "      <td>0.776540</td>\n",
              "    </tr>\n",
              "    <tr>\n",
              "      <th>28</th>\n",
              "      <td>0</td>\n",
              "      <td>0.502249</td>\n",
              "      <td>0.812483</td>\n",
              "      <td>0.033029</td>\n",
              "      <td>0.361729</td>\n",
              "    </tr>\n",
              "    <tr>\n",
              "      <th>29</th>\n",
              "      <td>1</td>\n",
              "      <td>0.082832</td>\n",
              "      <td>0.191395</td>\n",
              "      <td>0.942094</td>\n",
              "      <td>0.511525</td>\n",
              "    </tr>\n",
              "    <tr>\n",
              "      <th>...</th>\n",
              "      <td>...</td>\n",
              "      <td>...</td>\n",
              "      <td>...</td>\n",
              "      <td>...</td>\n",
              "      <td>...</td>\n",
              "    </tr>\n",
              "    <tr>\n",
              "      <th>68</th>\n",
              "      <td>1</td>\n",
              "      <td>0.908340</td>\n",
              "      <td>0.936113</td>\n",
              "      <td>0.490734</td>\n",
              "      <td>0.429673</td>\n",
              "    </tr>\n",
              "    <tr>\n",
              "      <th>69</th>\n",
              "      <td>0</td>\n",
              "      <td>0.305166</td>\n",
              "      <td>0.414830</td>\n",
              "      <td>0.165017</td>\n",
              "      <td>0.866705</td>\n",
              "    </tr>\n",
              "    <tr>\n",
              "      <th>70</th>\n",
              "      <td>1</td>\n",
              "      <td>0.671433</td>\n",
              "      <td>0.278335</td>\n",
              "      <td>0.876350</td>\n",
              "      <td>0.881777</td>\n",
              "    </tr>\n",
              "    <tr>\n",
              "      <th>71</th>\n",
              "      <td>0</td>\n",
              "      <td>0.193482</td>\n",
              "      <td>0.419262</td>\n",
              "      <td>0.696510</td>\n",
              "      <td>0.017492</td>\n",
              "    </tr>\n",
              "    <tr>\n",
              "      <th>72</th>\n",
              "      <td>0</td>\n",
              "      <td>0.229213</td>\n",
              "      <td>0.604989</td>\n",
              "      <td>0.233900</td>\n",
              "      <td>0.821661</td>\n",
              "    </tr>\n",
              "    <tr>\n",
              "      <th>73</th>\n",
              "      <td>0</td>\n",
              "      <td>0.316796</td>\n",
              "      <td>0.631253</td>\n",
              "      <td>0.449703</td>\n",
              "      <td>0.819090</td>\n",
              "    </tr>\n",
              "    <tr>\n",
              "      <th>74</th>\n",
              "      <td>0</td>\n",
              "      <td>0.447100</td>\n",
              "      <td>0.275679</td>\n",
              "      <td>0.250876</td>\n",
              "      <td>0.795584</td>\n",
              "    </tr>\n",
              "    <tr>\n",
              "      <th>75</th>\n",
              "      <td>0</td>\n",
              "      <td>0.348029</td>\n",
              "      <td>0.002791</td>\n",
              "      <td>0.790339</td>\n",
              "      <td>0.719238</td>\n",
              "    </tr>\n",
              "    <tr>\n",
              "      <th>76</th>\n",
              "      <td>0</td>\n",
              "      <td>0.182298</td>\n",
              "      <td>0.470716</td>\n",
              "      <td>0.261104</td>\n",
              "      <td>0.050908</td>\n",
              "    </tr>\n",
              "    <tr>\n",
              "      <th>77</th>\n",
              "      <td>1</td>\n",
              "      <td>0.369737</td>\n",
              "      <td>0.894653</td>\n",
              "      <td>0.983840</td>\n",
              "      <td>0.028699</td>\n",
              "    </tr>\n",
              "    <tr>\n",
              "      <th>78</th>\n",
              "      <td>0</td>\n",
              "      <td>0.211014</td>\n",
              "      <td>0.233332</td>\n",
              "      <td>0.756269</td>\n",
              "      <td>0.750634</td>\n",
              "    </tr>\n",
              "    <tr>\n",
              "      <th>79</th>\n",
              "      <td>0</td>\n",
              "      <td>0.611794</td>\n",
              "      <td>0.982060</td>\n",
              "      <td>0.758012</td>\n",
              "      <td>0.525102</td>\n",
              "    </tr>\n",
              "    <tr>\n",
              "      <th>80</th>\n",
              "      <td>0</td>\n",
              "      <td>0.484595</td>\n",
              "      <td>0.079588</td>\n",
              "      <td>0.785933</td>\n",
              "      <td>0.010509</td>\n",
              "    </tr>\n",
              "    <tr>\n",
              "      <th>81</th>\n",
              "      <td>1</td>\n",
              "      <td>0.340249</td>\n",
              "      <td>0.065911</td>\n",
              "      <td>0.232746</td>\n",
              "      <td>0.123508</td>\n",
              "    </tr>\n",
              "    <tr>\n",
              "      <th>82</th>\n",
              "      <td>1</td>\n",
              "      <td>0.171623</td>\n",
              "      <td>0.164251</td>\n",
              "      <td>0.015562</td>\n",
              "      <td>0.559485</td>\n",
              "    </tr>\n",
              "    <tr>\n",
              "      <th>83</th>\n",
              "      <td>1</td>\n",
              "      <td>0.979401</td>\n",
              "      <td>0.402866</td>\n",
              "      <td>0.611271</td>\n",
              "      <td>0.039457</td>\n",
              "    </tr>\n",
              "    <tr>\n",
              "      <th>84</th>\n",
              "      <td>1</td>\n",
              "      <td>0.192976</td>\n",
              "      <td>0.240917</td>\n",
              "      <td>0.462117</td>\n",
              "      <td>0.074309</td>\n",
              "    </tr>\n",
              "    <tr>\n",
              "      <th>85</th>\n",
              "      <td>0</td>\n",
              "      <td>0.799121</td>\n",
              "      <td>0.417584</td>\n",
              "      <td>0.277456</td>\n",
              "      <td>0.120299</td>\n",
              "    </tr>\n",
              "    <tr>\n",
              "      <th>86</th>\n",
              "      <td>1</td>\n",
              "      <td>0.206916</td>\n",
              "      <td>0.904670</td>\n",
              "      <td>0.176720</td>\n",
              "      <td>0.489031</td>\n",
              "    </tr>\n",
              "    <tr>\n",
              "      <th>87</th>\n",
              "      <td>1</td>\n",
              "      <td>0.749452</td>\n",
              "      <td>0.910377</td>\n",
              "      <td>0.193721</td>\n",
              "      <td>0.270573</td>\n",
              "    </tr>\n",
              "    <tr>\n",
              "      <th>88</th>\n",
              "      <td>1</td>\n",
              "      <td>0.251212</td>\n",
              "      <td>0.855552</td>\n",
              "      <td>0.393935</td>\n",
              "      <td>0.830205</td>\n",
              "    </tr>\n",
              "    <tr>\n",
              "      <th>89</th>\n",
              "      <td>1</td>\n",
              "      <td>0.274517</td>\n",
              "      <td>0.123562</td>\n",
              "      <td>0.744074</td>\n",
              "      <td>0.147227</td>\n",
              "    </tr>\n",
              "    <tr>\n",
              "      <th>90</th>\n",
              "      <td>1</td>\n",
              "      <td>0.499339</td>\n",
              "      <td>0.171130</td>\n",
              "      <td>0.917195</td>\n",
              "      <td>0.378572</td>\n",
              "    </tr>\n",
              "    <tr>\n",
              "      <th>91</th>\n",
              "      <td>0</td>\n",
              "      <td>0.187766</td>\n",
              "      <td>0.279809</td>\n",
              "      <td>0.416813</td>\n",
              "      <td>0.550450</td>\n",
              "    </tr>\n",
              "    <tr>\n",
              "      <th>92</th>\n",
              "      <td>0</td>\n",
              "      <td>0.837786</td>\n",
              "      <td>0.826434</td>\n",
              "      <td>0.759904</td>\n",
              "      <td>0.207992</td>\n",
              "    </tr>\n",
              "    <tr>\n",
              "      <th>93</th>\n",
              "      <td>1</td>\n",
              "      <td>0.940601</td>\n",
              "      <td>0.455747</td>\n",
              "      <td>0.971409</td>\n",
              "      <td>0.185912</td>\n",
              "    </tr>\n",
              "    <tr>\n",
              "      <th>94</th>\n",
              "      <td>1</td>\n",
              "      <td>0.221497</td>\n",
              "      <td>0.949555</td>\n",
              "      <td>0.311749</td>\n",
              "      <td>0.402423</td>\n",
              "    </tr>\n",
              "    <tr>\n",
              "      <th>95</th>\n",
              "      <td>0</td>\n",
              "      <td>0.866395</td>\n",
              "      <td>0.904122</td>\n",
              "      <td>0.984126</td>\n",
              "      <td>0.724174</td>\n",
              "    </tr>\n",
              "    <tr>\n",
              "      <th>96</th>\n",
              "      <td>1</td>\n",
              "      <td>0.014483</td>\n",
              "      <td>0.551180</td>\n",
              "      <td>0.549747</td>\n",
              "      <td>0.501723</td>\n",
              "    </tr>\n",
              "    <tr>\n",
              "      <th>97</th>\n",
              "      <td>1</td>\n",
              "      <td>0.231952</td>\n",
              "      <td>0.187777</td>\n",
              "      <td>0.916884</td>\n",
              "      <td>0.333070</td>\n",
              "    </tr>\n",
              "  </tbody>\n",
              "</table>\n",
              "<p>98 rows × 5 columns</p>\n",
              "</div>"
            ],
            "text/plain": [
              "    Y        X1        X2        X3        X4\n",
              "0   1  0.716347  0.063565  0.977043  0.178429\n",
              "1   1  0.932094  0.539502  0.752759  0.606651\n",
              "2   0  0.110050  0.150955  0.103875  0.796365\n",
              "3   0  0.580651  0.503657  0.195465  0.671641\n",
              "4   0  0.512752  0.626403  0.687458  0.294036\n",
              "5   0  0.089408  0.255870  0.783725  0.397538\n",
              "6   1  0.525372  0.395297  0.535168  0.074279\n",
              "7   1  0.920111  0.541020  0.007593  0.082287\n",
              "8   1  0.859581  0.357554  0.800343  0.945113\n",
              "9   1  0.364579  0.961758  0.789386  0.221178\n",
              "10  0  0.124286  0.262778  0.512493  0.934918\n",
              "11  0  0.950713  0.996832  0.314328  0.182351\n",
              "12  0  0.043069  0.194549  0.225729  0.350417\n",
              "13  1  0.960627  0.823424  0.564145  0.222452\n",
              "14  1  0.168521  0.259133  0.411147  0.481448\n",
              "15  0  0.642934  0.056786  0.448122  0.768208\n",
              "16  1  0.300489  0.216866  0.112701  0.503303\n",
              "17  0  0.951214  0.770457  0.676175  0.139730\n",
              "18  1  0.065269  0.044519  0.636096  0.377423\n",
              "19  1  0.890700  0.410336  0.768448  0.141294\n",
              "20  1  0.362795  0.666903  0.290232  0.801219\n",
              "21  0  0.805210  0.465898  0.845987  0.195403\n",
              "22  1  0.638819  0.346017  0.450734  0.507819\n",
              "23  0  0.186351  0.011836  0.097006  0.945907\n",
              "24  1  0.189154  0.465998  0.465090  0.466503\n",
              "25  0  0.837044  0.483397  0.063285  0.505949\n",
              "26  0  0.952977  0.702173  0.168939  0.784613\n",
              "27  0  0.471375  0.298713  0.141223  0.776540\n",
              "28  0  0.502249  0.812483  0.033029  0.361729\n",
              "29  1  0.082832  0.191395  0.942094  0.511525\n",
              ".. ..       ...       ...       ...       ...\n",
              "68  1  0.908340  0.936113  0.490734  0.429673\n",
              "69  0  0.305166  0.414830  0.165017  0.866705\n",
              "70  1  0.671433  0.278335  0.876350  0.881777\n",
              "71  0  0.193482  0.419262  0.696510  0.017492\n",
              "72  0  0.229213  0.604989  0.233900  0.821661\n",
              "73  0  0.316796  0.631253  0.449703  0.819090\n",
              "74  0  0.447100  0.275679  0.250876  0.795584\n",
              "75  0  0.348029  0.002791  0.790339  0.719238\n",
              "76  0  0.182298  0.470716  0.261104  0.050908\n",
              "77  1  0.369737  0.894653  0.983840  0.028699\n",
              "78  0  0.211014  0.233332  0.756269  0.750634\n",
              "79  0  0.611794  0.982060  0.758012  0.525102\n",
              "80  0  0.484595  0.079588  0.785933  0.010509\n",
              "81  1  0.340249  0.065911  0.232746  0.123508\n",
              "82  1  0.171623  0.164251  0.015562  0.559485\n",
              "83  1  0.979401  0.402866  0.611271  0.039457\n",
              "84  1  0.192976  0.240917  0.462117  0.074309\n",
              "85  0  0.799121  0.417584  0.277456  0.120299\n",
              "86  1  0.206916  0.904670  0.176720  0.489031\n",
              "87  1  0.749452  0.910377  0.193721  0.270573\n",
              "88  1  0.251212  0.855552  0.393935  0.830205\n",
              "89  1  0.274517  0.123562  0.744074  0.147227\n",
              "90  1  0.499339  0.171130  0.917195  0.378572\n",
              "91  0  0.187766  0.279809  0.416813  0.550450\n",
              "92  0  0.837786  0.826434  0.759904  0.207992\n",
              "93  1  0.940601  0.455747  0.971409  0.185912\n",
              "94  1  0.221497  0.949555  0.311749  0.402423\n",
              "95  0  0.866395  0.904122  0.984126  0.724174\n",
              "96  1  0.014483  0.551180  0.549747  0.501723\n",
              "97  1  0.231952  0.187777  0.916884  0.333070\n",
              "\n",
              "[98 rows x 5 columns]"
            ]
          },
          "metadata": {
            "tags": []
          },
          "execution_count": 3
        }
      ]
    },
    {
      "cell_type": "code",
      "metadata": {
        "id": "Wt5oXEQQvoU2",
        "colab_type": "code",
        "colab": {
          "base_uri": "https://localhost:8080/",
          "height": 233
        },
        "outputId": "916648d2-2cf2-4cff-b4a1-eccd7d08c2e5"
      },
      "source": [
        "df.head(6)"
      ],
      "execution_count": 5,
      "outputs": [
        {
          "output_type": "execute_result",
          "data": {
            "text/html": [
              "<div>\n",
              "<style scoped>\n",
              "    .dataframe tbody tr th:only-of-type {\n",
              "        vertical-align: middle;\n",
              "    }\n",
              "\n",
              "    .dataframe tbody tr th {\n",
              "        vertical-align: top;\n",
              "    }\n",
              "\n",
              "    .dataframe thead th {\n",
              "        text-align: right;\n",
              "    }\n",
              "</style>\n",
              "<table border=\"1\" class=\"dataframe\">\n",
              "  <thead>\n",
              "    <tr style=\"text-align: right;\">\n",
              "      <th></th>\n",
              "      <th>Y</th>\n",
              "      <th>X1</th>\n",
              "      <th>X2</th>\n",
              "      <th>X3</th>\n",
              "      <th>X4</th>\n",
              "    </tr>\n",
              "  </thead>\n",
              "  <tbody>\n",
              "    <tr>\n",
              "      <th>0</th>\n",
              "      <td>1</td>\n",
              "      <td>0.716347</td>\n",
              "      <td>0.063565</td>\n",
              "      <td>0.977043</td>\n",
              "      <td>0.178429</td>\n",
              "    </tr>\n",
              "    <tr>\n",
              "      <th>1</th>\n",
              "      <td>1</td>\n",
              "      <td>0.932094</td>\n",
              "      <td>0.539502</td>\n",
              "      <td>0.752759</td>\n",
              "      <td>0.606651</td>\n",
              "    </tr>\n",
              "    <tr>\n",
              "      <th>2</th>\n",
              "      <td>0</td>\n",
              "      <td>0.110050</td>\n",
              "      <td>0.150955</td>\n",
              "      <td>0.103875</td>\n",
              "      <td>0.796365</td>\n",
              "    </tr>\n",
              "    <tr>\n",
              "      <th>3</th>\n",
              "      <td>0</td>\n",
              "      <td>0.580651</td>\n",
              "      <td>0.503657</td>\n",
              "      <td>0.195465</td>\n",
              "      <td>0.671641</td>\n",
              "    </tr>\n",
              "    <tr>\n",
              "      <th>4</th>\n",
              "      <td>0</td>\n",
              "      <td>0.512752</td>\n",
              "      <td>0.626403</td>\n",
              "      <td>0.687458</td>\n",
              "      <td>0.294036</td>\n",
              "    </tr>\n",
              "    <tr>\n",
              "      <th>5</th>\n",
              "      <td>0</td>\n",
              "      <td>0.089408</td>\n",
              "      <td>0.255870</td>\n",
              "      <td>0.783725</td>\n",
              "      <td>0.397538</td>\n",
              "    </tr>\n",
              "  </tbody>\n",
              "</table>\n",
              "</div>"
            ],
            "text/plain": [
              "   Y        X1        X2        X3        X4\n",
              "0  1  0.716347  0.063565  0.977043  0.178429\n",
              "1  1  0.932094  0.539502  0.752759  0.606651\n",
              "2  0  0.110050  0.150955  0.103875  0.796365\n",
              "3  0  0.580651  0.503657  0.195465  0.671641\n",
              "4  0  0.512752  0.626403  0.687458  0.294036\n",
              "5  0  0.089408  0.255870  0.783725  0.397538"
            ]
          },
          "metadata": {
            "tags": []
          },
          "execution_count": 5
        }
      ]
    },
    {
      "cell_type": "markdown",
      "metadata": {
        "id": "8B7yXDSStfcA",
        "colab_type": "text"
      },
      "source": [
        "4. Show summary stats"
      ]
    },
    {
      "cell_type": "markdown",
      "metadata": {
        "id": "HumzWmTPtiTX",
        "colab_type": "text"
      },
      "source": [
        "5. How many columns and rows does my table have?"
      ]
    },
    {
      "cell_type": "code",
      "metadata": {
        "id": "r9REXvMDvxN7",
        "colab_type": "code",
        "colab": {
          "base_uri": "https://localhost:8080/",
          "height": 34
        },
        "outputId": "dcdb4bf5-71a3-4f72-8995-bdd1f46daa42"
      },
      "source": [
        "df.shape"
      ],
      "execution_count": 6,
      "outputs": [
        {
          "output_type": "execute_result",
          "data": {
            "text/plain": [
              "(98, 5)"
            ]
          },
          "metadata": {
            "tags": []
          },
          "execution_count": 6
        }
      ]
    },
    {
      "cell_type": "markdown",
      "metadata": {
        "id": "cGsjBOf5toDX",
        "colab_type": "text"
      },
      "source": [
        "6. Type of variables"
      ]
    },
    {
      "cell_type": "code",
      "metadata": {
        "id": "L9QZAAsUv0tD",
        "colab_type": "code",
        "colab": {
          "base_uri": "https://localhost:8080/",
          "height": 121
        },
        "outputId": "bfb75ade-32ec-4457-b85a-22d72791662e"
      },
      "source": [
        "df.dtypes"
      ],
      "execution_count": 7,
      "outputs": [
        {
          "output_type": "execute_result",
          "data": {
            "text/plain": [
              "Y       int64\n",
              "X1    float64\n",
              "X2    float64\n",
              "X3    float64\n",
              "X4    float64\n",
              "dtype: object"
            ]
          },
          "metadata": {
            "tags": []
          },
          "execution_count": 7
        }
      ]
    },
    {
      "cell_type": "markdown",
      "metadata": {
        "id": "mym0AeSt0f9v",
        "colab_type": "text"
      },
      "source": [
        "8. How many unique values does each column have?"
      ]
    },
    {
      "cell_type": "code",
      "metadata": {
        "id": "Z4DtW9Qn0m6D",
        "colab_type": "code",
        "colab": {
          "base_uri": "https://localhost:8080/",
          "height": 34
        },
        "outputId": "134ae013-ee2c-44dd-e783-f31b85f7f14d"
      },
      "source": [
        "len(df['Y'].unique())"
      ],
      "execution_count": 47,
      "outputs": [
        {
          "output_type": "execute_result",
          "data": {
            "text/plain": [
              "2"
            ]
          },
          "metadata": {
            "tags": []
          },
          "execution_count": 47
        }
      ]
    },
    {
      "cell_type": "code",
      "metadata": {
        "id": "1WwIshoa1__6",
        "colab_type": "code",
        "colab": {
          "base_uri": "https://localhost:8080/",
          "height": 34
        },
        "outputId": "ddddfb11-a3f7-4665-d1d3-f82ff3764bb0"
      },
      "source": [
        "len(df['X1'].unique())"
      ],
      "execution_count": 48,
      "outputs": [
        {
          "output_type": "execute_result",
          "data": {
            "text/plain": [
              "98"
            ]
          },
          "metadata": {
            "tags": []
          },
          "execution_count": 48
        }
      ]
    },
    {
      "cell_type": "code",
      "metadata": {
        "id": "vAIqOmI42BtN",
        "colab_type": "code",
        "colab": {
          "base_uri": "https://localhost:8080/",
          "height": 34
        },
        "outputId": "64f9086b-15a6-45ce-c3e8-7d0982f20b38"
      },
      "source": [
        "len(df['X2'].unique())"
      ],
      "execution_count": 49,
      "outputs": [
        {
          "output_type": "execute_result",
          "data": {
            "text/plain": [
              "98"
            ]
          },
          "metadata": {
            "tags": []
          },
          "execution_count": 49
        }
      ]
    },
    {
      "cell_type": "code",
      "metadata": {
        "id": "5iMaBcCO2CWR",
        "colab_type": "code",
        "colab": {
          "base_uri": "https://localhost:8080/",
          "height": 34
        },
        "outputId": "95fce04e-43ab-4774-87a9-8b31759ff412"
      },
      "source": [
        "len(df['X3'].unique())"
      ],
      "execution_count": 50,
      "outputs": [
        {
          "output_type": "execute_result",
          "data": {
            "text/plain": [
              "98"
            ]
          },
          "metadata": {
            "tags": []
          },
          "execution_count": 50
        }
      ]
    },
    {
      "cell_type": "code",
      "metadata": {
        "id": "EyhFAFRJ2F6L",
        "colab_type": "code",
        "colab": {
          "base_uri": "https://localhost:8080/",
          "height": 34
        },
        "outputId": "7338f13a-b4dc-4a73-883f-5c7ead2d8a60"
      },
      "source": [
        "len(df['X4'].unique())"
      ],
      "execution_count": 51,
      "outputs": [
        {
          "output_type": "execute_result",
          "data": {
            "text/plain": [
              "98"
            ]
          },
          "metadata": {
            "tags": []
          },
          "execution_count": 51
        }
      ]
    },
    {
      "cell_type": "markdown",
      "metadata": {
        "id": "KCwdFoBCtrLJ",
        "colab_type": "text"
      },
      "source": [
        "7. How many null values does my dataset have"
      ]
    },
    {
      "cell_type": "code",
      "metadata": {
        "id": "4356sIr_v86w",
        "colab_type": "code",
        "colab": {
          "base_uri": "https://localhost:8080/",
          "height": 121
        },
        "outputId": "207aeb05-5ba7-410f-cb5b-0b88e5685e2b"
      },
      "source": [
        "df.isnull().sum()"
      ],
      "execution_count": 9,
      "outputs": [
        {
          "output_type": "execute_result",
          "data": {
            "text/plain": [
              "Y     0\n",
              "X1    0\n",
              "X2    0\n",
              "X3    0\n",
              "X4    0\n",
              "dtype: int64"
            ]
          },
          "metadata": {
            "tags": []
          },
          "execution_count": 9
        }
      ]
    },
    {
      "cell_type": "markdown",
      "metadata": {
        "id": "k--NT7YOtv1Z",
        "colab_type": "text"
      },
      "source": [
        "8. Sort column by ascending number"
      ]
    },
    {
      "cell_type": "code",
      "metadata": {
        "id": "UNGzHHLzwCQU",
        "colab_type": "code",
        "colab": {
          "base_uri": "https://localhost:8080/",
          "height": 202
        },
        "outputId": "c1236e0c-2654-47d6-ac6a-110f0584c884"
      },
      "source": [
        "df.sort_values(\"X1\", ascending=False).head()"
      ],
      "execution_count": 52,
      "outputs": [
        {
          "output_type": "execute_result",
          "data": {
            "text/html": [
              "<div>\n",
              "<style scoped>\n",
              "    .dataframe tbody tr th:only-of-type {\n",
              "        vertical-align: middle;\n",
              "    }\n",
              "\n",
              "    .dataframe tbody tr th {\n",
              "        vertical-align: top;\n",
              "    }\n",
              "\n",
              "    .dataframe thead th {\n",
              "        text-align: right;\n",
              "    }\n",
              "</style>\n",
              "<table border=\"1\" class=\"dataframe\">\n",
              "  <thead>\n",
              "    <tr style=\"text-align: right;\">\n",
              "      <th></th>\n",
              "      <th>Y</th>\n",
              "      <th>X1</th>\n",
              "      <th>X2</th>\n",
              "      <th>X3</th>\n",
              "      <th>X4</th>\n",
              "      <th>X5</th>\n",
              "    </tr>\n",
              "  </thead>\n",
              "  <tbody>\n",
              "    <tr>\n",
              "      <th>59</th>\n",
              "      <td>0</td>\n",
              "      <td>0.992426</td>\n",
              "      <td>0.228562</td>\n",
              "      <td>0.734570</td>\n",
              "      <td>0.782130</td>\n",
              "      <td>1.516700</td>\n",
              "    </tr>\n",
              "    <tr>\n",
              "      <th>83</th>\n",
              "      <td>1</td>\n",
              "      <td>0.979401</td>\n",
              "      <td>0.402866</td>\n",
              "      <td>0.611271</td>\n",
              "      <td>0.039457</td>\n",
              "      <td>0.650728</td>\n",
              "    </tr>\n",
              "    <tr>\n",
              "      <th>67</th>\n",
              "      <td>1</td>\n",
              "      <td>0.970048</td>\n",
              "      <td>0.711411</td>\n",
              "      <td>0.048929</td>\n",
              "      <td>0.069089</td>\n",
              "      <td>0.118018</td>\n",
              "    </tr>\n",
              "    <tr>\n",
              "      <th>13</th>\n",
              "      <td>1</td>\n",
              "      <td>0.960627</td>\n",
              "      <td>0.823424</td>\n",
              "      <td>0.564145</td>\n",
              "      <td>0.222452</td>\n",
              "      <td>0.786597</td>\n",
              "    </tr>\n",
              "    <tr>\n",
              "      <th>26</th>\n",
              "      <td>0</td>\n",
              "      <td>0.952977</td>\n",
              "      <td>0.702173</td>\n",
              "      <td>0.168939</td>\n",
              "      <td>0.784613</td>\n",
              "      <td>0.953551</td>\n",
              "    </tr>\n",
              "  </tbody>\n",
              "</table>\n",
              "</div>"
            ],
            "text/plain": [
              "    Y        X1        X2        X3        X4        X5\n",
              "59  0  0.992426  0.228562  0.734570  0.782130  1.516700\n",
              "83  1  0.979401  0.402866  0.611271  0.039457  0.650728\n",
              "67  1  0.970048  0.711411  0.048929  0.069089  0.118018\n",
              "13  1  0.960627  0.823424  0.564145  0.222452  0.786597\n",
              "26  0  0.952977  0.702173  0.168939  0.784613  0.953551"
            ]
          },
          "metadata": {
            "tags": []
          },
          "execution_count": 52
        }
      ]
    },
    {
      "cell_type": "markdown",
      "metadata": {
        "id": "G2FkhetCt1Ws",
        "colab_type": "text"
      },
      "source": [
        "9. Extract one column"
      ]
    },
    {
      "cell_type": "code",
      "metadata": {
        "id": "ScJvCaTkwh6H",
        "colab_type": "code",
        "colab": {
          "base_uri": "https://localhost:8080/",
          "height": 121
        },
        "outputId": "e9b918c9-c8a2-42ce-ce7e-4096d28fe2ff"
      },
      "source": [
        "df['X2'].head()"
      ],
      "execution_count": 17,
      "outputs": [
        {
          "output_type": "execute_result",
          "data": {
            "text/plain": [
              "0    0.063565\n",
              "1    0.539502\n",
              "2    0.150955\n",
              "3    0.503657\n",
              "4    0.626403\n",
              "Name: X2, dtype: float64"
            ]
          },
          "metadata": {
            "tags": []
          },
          "execution_count": 17
        }
      ]
    },
    {
      "cell_type": "markdown",
      "metadata": {
        "id": "AbZvm0hFuA5C",
        "colab_type": "text"
      },
      "source": [
        "10. Create a new column"
      ]
    },
    {
      "cell_type": "code",
      "metadata": {
        "id": "1bjEUf8LwqQ_",
        "colab_type": "code",
        "colab": {}
      },
      "source": [
        "df[\"X5\"] = df[\"X4\"]+df[\"X3\"]"
      ],
      "execution_count": 0,
      "outputs": []
    },
    {
      "cell_type": "code",
      "metadata": {
        "id": "LvbUFnhww0qp",
        "colab_type": "code",
        "colab": {
          "base_uri": "https://localhost:8080/",
          "height": 202
        },
        "outputId": "3c063aa3-0e12-49ca-f6e0-9b64a030ad2d"
      },
      "source": [
        "df.head()"
      ],
      "execution_count": 19,
      "outputs": [
        {
          "output_type": "execute_result",
          "data": {
            "text/html": [
              "<div>\n",
              "<style scoped>\n",
              "    .dataframe tbody tr th:only-of-type {\n",
              "        vertical-align: middle;\n",
              "    }\n",
              "\n",
              "    .dataframe tbody tr th {\n",
              "        vertical-align: top;\n",
              "    }\n",
              "\n",
              "    .dataframe thead th {\n",
              "        text-align: right;\n",
              "    }\n",
              "</style>\n",
              "<table border=\"1\" class=\"dataframe\">\n",
              "  <thead>\n",
              "    <tr style=\"text-align: right;\">\n",
              "      <th></th>\n",
              "      <th>Y</th>\n",
              "      <th>X1</th>\n",
              "      <th>X2</th>\n",
              "      <th>X3</th>\n",
              "      <th>X4</th>\n",
              "      <th>X5</th>\n",
              "    </tr>\n",
              "  </thead>\n",
              "  <tbody>\n",
              "    <tr>\n",
              "      <th>0</th>\n",
              "      <td>1</td>\n",
              "      <td>0.716347</td>\n",
              "      <td>0.063565</td>\n",
              "      <td>0.977043</td>\n",
              "      <td>0.178429</td>\n",
              "      <td>1.155472</td>\n",
              "    </tr>\n",
              "    <tr>\n",
              "      <th>1</th>\n",
              "      <td>1</td>\n",
              "      <td>0.932094</td>\n",
              "      <td>0.539502</td>\n",
              "      <td>0.752759</td>\n",
              "      <td>0.606651</td>\n",
              "      <td>1.359410</td>\n",
              "    </tr>\n",
              "    <tr>\n",
              "      <th>2</th>\n",
              "      <td>0</td>\n",
              "      <td>0.110050</td>\n",
              "      <td>0.150955</td>\n",
              "      <td>0.103875</td>\n",
              "      <td>0.796365</td>\n",
              "      <td>0.900240</td>\n",
              "    </tr>\n",
              "    <tr>\n",
              "      <th>3</th>\n",
              "      <td>0</td>\n",
              "      <td>0.580651</td>\n",
              "      <td>0.503657</td>\n",
              "      <td>0.195465</td>\n",
              "      <td>0.671641</td>\n",
              "      <td>0.867106</td>\n",
              "    </tr>\n",
              "    <tr>\n",
              "      <th>4</th>\n",
              "      <td>0</td>\n",
              "      <td>0.512752</td>\n",
              "      <td>0.626403</td>\n",
              "      <td>0.687458</td>\n",
              "      <td>0.294036</td>\n",
              "      <td>0.981494</td>\n",
              "    </tr>\n",
              "  </tbody>\n",
              "</table>\n",
              "</div>"
            ],
            "text/plain": [
              "   Y        X1        X2        X3        X4        X5\n",
              "0  1  0.716347  0.063565  0.977043  0.178429  1.155472\n",
              "1  1  0.932094  0.539502  0.752759  0.606651  1.359410\n",
              "2  0  0.110050  0.150955  0.103875  0.796365  0.900240\n",
              "3  0  0.580651  0.503657  0.195465  0.671641  0.867106\n",
              "4  0  0.512752  0.626403  0.687458  0.294036  0.981494"
            ]
          },
          "metadata": {
            "tags": []
          },
          "execution_count": 19
        }
      ]
    },
    {
      "cell_type": "markdown",
      "metadata": {
        "id": "pCh-ReuzuEVd",
        "colab_type": "text"
      },
      "source": [
        "11. Create a subtable with existing one."
      ]
    },
    {
      "cell_type": "code",
      "metadata": {
        "id": "rzb7pOSGw9kG",
        "colab_type": "code",
        "colab": {}
      },
      "source": [
        "df_new = df.loc[:49,:]"
      ],
      "execution_count": 0,
      "outputs": []
    },
    {
      "cell_type": "code",
      "metadata": {
        "id": "AlVfOuWyxHx_",
        "colab_type": "code",
        "colab": {
          "base_uri": "https://localhost:8080/",
          "height": 202
        },
        "outputId": "b0ffdaee-bf93-4887-d115-04c060f8a72d"
      },
      "source": [
        "df_new.head()"
      ],
      "execution_count": 24,
      "outputs": [
        {
          "output_type": "execute_result",
          "data": {
            "text/html": [
              "<div>\n",
              "<style scoped>\n",
              "    .dataframe tbody tr th:only-of-type {\n",
              "        vertical-align: middle;\n",
              "    }\n",
              "\n",
              "    .dataframe tbody tr th {\n",
              "        vertical-align: top;\n",
              "    }\n",
              "\n",
              "    .dataframe thead th {\n",
              "        text-align: right;\n",
              "    }\n",
              "</style>\n",
              "<table border=\"1\" class=\"dataframe\">\n",
              "  <thead>\n",
              "    <tr style=\"text-align: right;\">\n",
              "      <th></th>\n",
              "      <th>Y</th>\n",
              "      <th>X1</th>\n",
              "      <th>X2</th>\n",
              "      <th>X3</th>\n",
              "      <th>X4</th>\n",
              "      <th>X5</th>\n",
              "    </tr>\n",
              "  </thead>\n",
              "  <tbody>\n",
              "    <tr>\n",
              "      <th>0</th>\n",
              "      <td>1</td>\n",
              "      <td>0.716347</td>\n",
              "      <td>0.063565</td>\n",
              "      <td>0.977043</td>\n",
              "      <td>0.178429</td>\n",
              "      <td>1.155472</td>\n",
              "    </tr>\n",
              "    <tr>\n",
              "      <th>1</th>\n",
              "      <td>1</td>\n",
              "      <td>0.932094</td>\n",
              "      <td>0.539502</td>\n",
              "      <td>0.752759</td>\n",
              "      <td>0.606651</td>\n",
              "      <td>1.359410</td>\n",
              "    </tr>\n",
              "    <tr>\n",
              "      <th>2</th>\n",
              "      <td>0</td>\n",
              "      <td>0.110050</td>\n",
              "      <td>0.150955</td>\n",
              "      <td>0.103875</td>\n",
              "      <td>0.796365</td>\n",
              "      <td>0.900240</td>\n",
              "    </tr>\n",
              "    <tr>\n",
              "      <th>3</th>\n",
              "      <td>0</td>\n",
              "      <td>0.580651</td>\n",
              "      <td>0.503657</td>\n",
              "      <td>0.195465</td>\n",
              "      <td>0.671641</td>\n",
              "      <td>0.867106</td>\n",
              "    </tr>\n",
              "    <tr>\n",
              "      <th>4</th>\n",
              "      <td>0</td>\n",
              "      <td>0.512752</td>\n",
              "      <td>0.626403</td>\n",
              "      <td>0.687458</td>\n",
              "      <td>0.294036</td>\n",
              "      <td>0.981494</td>\n",
              "    </tr>\n",
              "  </tbody>\n",
              "</table>\n",
              "</div>"
            ],
            "text/plain": [
              "   Y        X1        X2        X3        X4        X5\n",
              "0  1  0.716347  0.063565  0.977043  0.178429  1.155472\n",
              "1  1  0.932094  0.539502  0.752759  0.606651  1.359410\n",
              "2  0  0.110050  0.150955  0.103875  0.796365  0.900240\n",
              "3  0  0.580651  0.503657  0.195465  0.671641  0.867106\n",
              "4  0  0.512752  0.626403  0.687458  0.294036  0.981494"
            ]
          },
          "metadata": {
            "tags": []
          },
          "execution_count": 24
        }
      ]
    },
    {
      "cell_type": "code",
      "metadata": {
        "id": "bex8K2_8xQHN",
        "colab_type": "code",
        "colab": {
          "base_uri": "https://localhost:8080/",
          "height": 34
        },
        "outputId": "f88e6e32-ecdf-4042-f4aa-b13838d9a7f1"
      },
      "source": [
        "df_new.shape"
      ],
      "execution_count": 25,
      "outputs": [
        {
          "output_type": "execute_result",
          "data": {
            "text/plain": [
              "(50, 6)"
            ]
          },
          "metadata": {
            "tags": []
          },
          "execution_count": 25
        }
      ]
    },
    {
      "cell_type": "markdown",
      "metadata": {
        "id": "-0c5J_yGuNYm",
        "colab_type": "text"
      },
      "source": [
        "12. Rename columns"
      ]
    },
    {
      "cell_type": "code",
      "metadata": {
        "id": "oRG6RjDQxfoy",
        "colab_type": "code",
        "colab": {
          "base_uri": "https://localhost:8080/",
          "height": 34
        },
        "outputId": "2b78aef4-f81a-405e-9334-890586b06b16"
      },
      "source": [
        "df.columns"
      ],
      "execution_count": 26,
      "outputs": [
        {
          "output_type": "execute_result",
          "data": {
            "text/plain": [
              "Index(['Y', 'X1', 'X2', 'X3', 'X4', 'X5'], dtype='object')"
            ]
          },
          "metadata": {
            "tags": []
          },
          "execution_count": 26
        }
      ]
    },
    {
      "cell_type": "code",
      "metadata": {
        "id": "TaU9hM1UxiwZ",
        "colab_type": "code",
        "colab": {}
      },
      "source": [
        "df_2 = df_new.rename(columns = {'Y':'A', 'X1':'B', 'X2':'C', 'X3':'D', 'X4':'E', 'X5':'F'})"
      ],
      "execution_count": 0,
      "outputs": []
    },
    {
      "cell_type": "code",
      "metadata": {
        "id": "UZ8-8Keyyo3_",
        "colab_type": "code",
        "colab": {
          "base_uri": "https://localhost:8080/",
          "height": 202
        },
        "outputId": "5959d369-39b8-4bb7-f4ff-4bcdb37b2a0a"
      },
      "source": [
        "df_2.head()"
      ],
      "execution_count": 29,
      "outputs": [
        {
          "output_type": "execute_result",
          "data": {
            "text/html": [
              "<div>\n",
              "<style scoped>\n",
              "    .dataframe tbody tr th:only-of-type {\n",
              "        vertical-align: middle;\n",
              "    }\n",
              "\n",
              "    .dataframe tbody tr th {\n",
              "        vertical-align: top;\n",
              "    }\n",
              "\n",
              "    .dataframe thead th {\n",
              "        text-align: right;\n",
              "    }\n",
              "</style>\n",
              "<table border=\"1\" class=\"dataframe\">\n",
              "  <thead>\n",
              "    <tr style=\"text-align: right;\">\n",
              "      <th></th>\n",
              "      <th>A</th>\n",
              "      <th>B</th>\n",
              "      <th>C</th>\n",
              "      <th>D</th>\n",
              "      <th>E</th>\n",
              "      <th>F</th>\n",
              "    </tr>\n",
              "  </thead>\n",
              "  <tbody>\n",
              "    <tr>\n",
              "      <th>0</th>\n",
              "      <td>1</td>\n",
              "      <td>0.716347</td>\n",
              "      <td>0.063565</td>\n",
              "      <td>0.977043</td>\n",
              "      <td>0.178429</td>\n",
              "      <td>1.155472</td>\n",
              "    </tr>\n",
              "    <tr>\n",
              "      <th>1</th>\n",
              "      <td>1</td>\n",
              "      <td>0.932094</td>\n",
              "      <td>0.539502</td>\n",
              "      <td>0.752759</td>\n",
              "      <td>0.606651</td>\n",
              "      <td>1.359410</td>\n",
              "    </tr>\n",
              "    <tr>\n",
              "      <th>2</th>\n",
              "      <td>0</td>\n",
              "      <td>0.110050</td>\n",
              "      <td>0.150955</td>\n",
              "      <td>0.103875</td>\n",
              "      <td>0.796365</td>\n",
              "      <td>0.900240</td>\n",
              "    </tr>\n",
              "    <tr>\n",
              "      <th>3</th>\n",
              "      <td>0</td>\n",
              "      <td>0.580651</td>\n",
              "      <td>0.503657</td>\n",
              "      <td>0.195465</td>\n",
              "      <td>0.671641</td>\n",
              "      <td>0.867106</td>\n",
              "    </tr>\n",
              "    <tr>\n",
              "      <th>4</th>\n",
              "      <td>0</td>\n",
              "      <td>0.512752</td>\n",
              "      <td>0.626403</td>\n",
              "      <td>0.687458</td>\n",
              "      <td>0.294036</td>\n",
              "      <td>0.981494</td>\n",
              "    </tr>\n",
              "  </tbody>\n",
              "</table>\n",
              "</div>"
            ],
            "text/plain": [
              "   A         B         C         D         E         F\n",
              "0  1  0.716347  0.063565  0.977043  0.178429  1.155472\n",
              "1  1  0.932094  0.539502  0.752759  0.606651  1.359410\n",
              "2  0  0.110050  0.150955  0.103875  0.796365  0.900240\n",
              "3  0  0.580651  0.503657  0.195465  0.671641  0.867106\n",
              "4  0  0.512752  0.626403  0.687458  0.294036  0.981494"
            ]
          },
          "metadata": {
            "tags": []
          },
          "execution_count": 29
        }
      ]
    },
    {
      "cell_type": "markdown",
      "metadata": {
        "id": "LOyEeKnBubuO",
        "colab_type": "text"
      },
      "source": [
        "13. Change order of columns"
      ]
    },
    {
      "cell_type": "code",
      "metadata": {
        "id": "bvCiLY8kza6l",
        "colab_type": "code",
        "colab": {
          "base_uri": "https://localhost:8080/",
          "height": 34
        },
        "outputId": "accb2aac-0213-49f6-e979-2d7e81d237ea"
      },
      "source": [
        "df_2.columns"
      ],
      "execution_count": 31,
      "outputs": [
        {
          "output_type": "execute_result",
          "data": {
            "text/plain": [
              "Index(['A', 'B', 'C', 'D', 'E', 'F'], dtype='object')"
            ]
          },
          "metadata": {
            "tags": []
          },
          "execution_count": 31
        }
      ]
    },
    {
      "cell_type": "code",
      "metadata": {
        "id": "Wtm4eYvUzX4k",
        "colab_type": "code",
        "colab": {
          "base_uri": "https://localhost:8080/",
          "height": 202
        },
        "outputId": "b07d8eef-ec55-40ad-b7b9-406944274b23"
      },
      "source": [
        "columnsTitles = ['B', 'C', 'D','F', 'E']\n",
        "df_2.reindex(columns=columnsTitles).head()"
      ],
      "execution_count": 33,
      "outputs": [
        {
          "output_type": "execute_result",
          "data": {
            "text/html": [
              "<div>\n",
              "<style scoped>\n",
              "    .dataframe tbody tr th:only-of-type {\n",
              "        vertical-align: middle;\n",
              "    }\n",
              "\n",
              "    .dataframe tbody tr th {\n",
              "        vertical-align: top;\n",
              "    }\n",
              "\n",
              "    .dataframe thead th {\n",
              "        text-align: right;\n",
              "    }\n",
              "</style>\n",
              "<table border=\"1\" class=\"dataframe\">\n",
              "  <thead>\n",
              "    <tr style=\"text-align: right;\">\n",
              "      <th></th>\n",
              "      <th>B</th>\n",
              "      <th>C</th>\n",
              "      <th>D</th>\n",
              "      <th>F</th>\n",
              "      <th>E</th>\n",
              "    </tr>\n",
              "  </thead>\n",
              "  <tbody>\n",
              "    <tr>\n",
              "      <th>0</th>\n",
              "      <td>0.716347</td>\n",
              "      <td>0.063565</td>\n",
              "      <td>0.977043</td>\n",
              "      <td>1.155472</td>\n",
              "      <td>0.178429</td>\n",
              "    </tr>\n",
              "    <tr>\n",
              "      <th>1</th>\n",
              "      <td>0.932094</td>\n",
              "      <td>0.539502</td>\n",
              "      <td>0.752759</td>\n",
              "      <td>1.359410</td>\n",
              "      <td>0.606651</td>\n",
              "    </tr>\n",
              "    <tr>\n",
              "      <th>2</th>\n",
              "      <td>0.110050</td>\n",
              "      <td>0.150955</td>\n",
              "      <td>0.103875</td>\n",
              "      <td>0.900240</td>\n",
              "      <td>0.796365</td>\n",
              "    </tr>\n",
              "    <tr>\n",
              "      <th>3</th>\n",
              "      <td>0.580651</td>\n",
              "      <td>0.503657</td>\n",
              "      <td>0.195465</td>\n",
              "      <td>0.867106</td>\n",
              "      <td>0.671641</td>\n",
              "    </tr>\n",
              "    <tr>\n",
              "      <th>4</th>\n",
              "      <td>0.512752</td>\n",
              "      <td>0.626403</td>\n",
              "      <td>0.687458</td>\n",
              "      <td>0.981494</td>\n",
              "      <td>0.294036</td>\n",
              "    </tr>\n",
              "  </tbody>\n",
              "</table>\n",
              "</div>"
            ],
            "text/plain": [
              "          B         C         D         F         E\n",
              "0  0.716347  0.063565  0.977043  1.155472  0.178429\n",
              "1  0.932094  0.539502  0.752759  1.359410  0.606651\n",
              "2  0.110050  0.150955  0.103875  0.900240  0.796365\n",
              "3  0.580651  0.503657  0.195465  0.867106  0.671641\n",
              "4  0.512752  0.626403  0.687458  0.981494  0.294036"
            ]
          },
          "metadata": {
            "tags": []
          },
          "execution_count": 33
        }
      ]
    },
    {
      "cell_type": "markdown",
      "metadata": {
        "id": "pNwESxpfuThX",
        "colab_type": "text"
      },
      "source": [
        "15. Drop columns"
      ]
    },
    {
      "cell_type": "markdown",
      "metadata": {
        "id": "xKeb9g1Y4TZj",
        "colab_type": "text"
      },
      "source": [
        ""
      ]
    },
    {
      "cell_type": "code",
      "metadata": {
        "id": "_n3RYiy24gy0",
        "colab_type": "code",
        "colab": {
          "base_uri": "https://localhost:8080/",
          "height": 202
        },
        "outputId": "e88f6db7-9c54-48f3-997a-b91777a2dc62"
      },
      "source": [
        "df_2.drop(\"D\", axis = 1).head()"
      ],
      "execution_count": 58,
      "outputs": [
        {
          "output_type": "execute_result",
          "data": {
            "text/html": [
              "<div>\n",
              "<style scoped>\n",
              "    .dataframe tbody tr th:only-of-type {\n",
              "        vertical-align: middle;\n",
              "    }\n",
              "\n",
              "    .dataframe tbody tr th {\n",
              "        vertical-align: top;\n",
              "    }\n",
              "\n",
              "    .dataframe thead th {\n",
              "        text-align: right;\n",
              "    }\n",
              "</style>\n",
              "<table border=\"1\" class=\"dataframe\">\n",
              "  <thead>\n",
              "    <tr style=\"text-align: right;\">\n",
              "      <th></th>\n",
              "      <th>A</th>\n",
              "      <th>B</th>\n",
              "      <th>C</th>\n",
              "      <th>E</th>\n",
              "      <th>F</th>\n",
              "    </tr>\n",
              "  </thead>\n",
              "  <tbody>\n",
              "    <tr>\n",
              "      <th>0</th>\n",
              "      <td>1</td>\n",
              "      <td>0.716347</td>\n",
              "      <td>0.063565</td>\n",
              "      <td>0.178429</td>\n",
              "      <td>1.155472</td>\n",
              "    </tr>\n",
              "    <tr>\n",
              "      <th>1</th>\n",
              "      <td>1</td>\n",
              "      <td>0.932094</td>\n",
              "      <td>0.539502</td>\n",
              "      <td>0.606651</td>\n",
              "      <td>1.359410</td>\n",
              "    </tr>\n",
              "    <tr>\n",
              "      <th>2</th>\n",
              "      <td>0</td>\n",
              "      <td>0.110050</td>\n",
              "      <td>0.150955</td>\n",
              "      <td>0.796365</td>\n",
              "      <td>0.900240</td>\n",
              "    </tr>\n",
              "    <tr>\n",
              "      <th>3</th>\n",
              "      <td>0</td>\n",
              "      <td>0.580651</td>\n",
              "      <td>0.503657</td>\n",
              "      <td>0.671641</td>\n",
              "      <td>0.867106</td>\n",
              "    </tr>\n",
              "    <tr>\n",
              "      <th>4</th>\n",
              "      <td>0</td>\n",
              "      <td>0.512752</td>\n",
              "      <td>0.626403</td>\n",
              "      <td>0.294036</td>\n",
              "      <td>0.981494</td>\n",
              "    </tr>\n",
              "  </tbody>\n",
              "</table>\n",
              "</div>"
            ],
            "text/plain": [
              "   A         B         C         E         F\n",
              "0  1  0.716347  0.063565  0.178429  1.155472\n",
              "1  1  0.932094  0.539502  0.606651  1.359410\n",
              "2  0  0.110050  0.150955  0.796365  0.900240\n",
              "3  0  0.580651  0.503657  0.671641  0.867106\n",
              "4  0  0.512752  0.626403  0.294036  0.981494"
            ]
          },
          "metadata": {
            "tags": []
          },
          "execution_count": 58
        }
      ]
    },
    {
      "cell_type": "markdown",
      "metadata": {
        "id": "5lAfQdvZukzD",
        "colab_type": "text"
      },
      "source": [
        "16. Make a new column"
      ]
    },
    {
      "cell_type": "code",
      "metadata": {
        "id": "90SHpV5s48Lr",
        "colab_type": "code",
        "colab": {
          "base_uri": "https://localhost:8080/",
          "height": 202
        },
        "outputId": "8efea24a-ae2b-4838-99d3-dd0b8d58ad50"
      },
      "source": [
        "df_2['new column'] = df_2['A']+df_2['C']\n",
        "df_2.head()"
      ],
      "execution_count": 60,
      "outputs": [
        {
          "output_type": "execute_result",
          "data": {
            "text/html": [
              "<div>\n",
              "<style scoped>\n",
              "    .dataframe tbody tr th:only-of-type {\n",
              "        vertical-align: middle;\n",
              "    }\n",
              "\n",
              "    .dataframe tbody tr th {\n",
              "        vertical-align: top;\n",
              "    }\n",
              "\n",
              "    .dataframe thead th {\n",
              "        text-align: right;\n",
              "    }\n",
              "</style>\n",
              "<table border=\"1\" class=\"dataframe\">\n",
              "  <thead>\n",
              "    <tr style=\"text-align: right;\">\n",
              "      <th></th>\n",
              "      <th>A</th>\n",
              "      <th>B</th>\n",
              "      <th>C</th>\n",
              "      <th>D</th>\n",
              "      <th>E</th>\n",
              "      <th>F</th>\n",
              "      <th>new column</th>\n",
              "    </tr>\n",
              "  </thead>\n",
              "  <tbody>\n",
              "    <tr>\n",
              "      <th>0</th>\n",
              "      <td>1</td>\n",
              "      <td>0.716347</td>\n",
              "      <td>0.063565</td>\n",
              "      <td>0.977043</td>\n",
              "      <td>0.178429</td>\n",
              "      <td>1.155472</td>\n",
              "      <td>1.063565</td>\n",
              "    </tr>\n",
              "    <tr>\n",
              "      <th>1</th>\n",
              "      <td>1</td>\n",
              "      <td>0.932094</td>\n",
              "      <td>0.539502</td>\n",
              "      <td>0.752759</td>\n",
              "      <td>0.606651</td>\n",
              "      <td>1.359410</td>\n",
              "      <td>1.539502</td>\n",
              "    </tr>\n",
              "    <tr>\n",
              "      <th>2</th>\n",
              "      <td>0</td>\n",
              "      <td>0.110050</td>\n",
              "      <td>0.150955</td>\n",
              "      <td>0.103875</td>\n",
              "      <td>0.796365</td>\n",
              "      <td>0.900240</td>\n",
              "      <td>0.150955</td>\n",
              "    </tr>\n",
              "    <tr>\n",
              "      <th>3</th>\n",
              "      <td>0</td>\n",
              "      <td>0.580651</td>\n",
              "      <td>0.503657</td>\n",
              "      <td>0.195465</td>\n",
              "      <td>0.671641</td>\n",
              "      <td>0.867106</td>\n",
              "      <td>0.503657</td>\n",
              "    </tr>\n",
              "    <tr>\n",
              "      <th>4</th>\n",
              "      <td>0</td>\n",
              "      <td>0.512752</td>\n",
              "      <td>0.626403</td>\n",
              "      <td>0.687458</td>\n",
              "      <td>0.294036</td>\n",
              "      <td>0.981494</td>\n",
              "      <td>0.626403</td>\n",
              "    </tr>\n",
              "  </tbody>\n",
              "</table>\n",
              "</div>"
            ],
            "text/plain": [
              "   A         B         C         D         E         F  new column\n",
              "0  1  0.716347  0.063565  0.977043  0.178429  1.155472    1.063565\n",
              "1  1  0.932094  0.539502  0.752759  0.606651  1.359410    1.539502\n",
              "2  0  0.110050  0.150955  0.103875  0.796365  0.900240    0.150955\n",
              "3  0  0.580651  0.503657  0.195465  0.671641  0.867106    0.503657\n",
              "4  0  0.512752  0.626403  0.687458  0.294036  0.981494    0.626403"
            ]
          },
          "metadata": {
            "tags": []
          },
          "execution_count": 60
        }
      ]
    },
    {
      "cell_type": "markdown",
      "metadata": {
        "id": "0q5HjfYIusaD",
        "colab_type": "text"
      },
      "source": [
        "17. Make a new dataset with a condition"
      ]
    },
    {
      "cell_type": "code",
      "metadata": {
        "id": "ZGtwpUrt5NIk",
        "colab_type": "code",
        "colab": {}
      },
      "source": [
        "df_3 = df_2[df_2.A == 0]"
      ],
      "execution_count": 0,
      "outputs": []
    },
    {
      "cell_type": "code",
      "metadata": {
        "id": "Pivo9yaR5XYr",
        "colab_type": "code",
        "colab": {
          "base_uri": "https://localhost:8080/",
          "height": 202
        },
        "outputId": "70efb759-8a9e-477a-9d0b-6d764d6089b7"
      },
      "source": [
        "df_3.head()"
      ],
      "execution_count": 70,
      "outputs": [
        {
          "output_type": "execute_result",
          "data": {
            "text/html": [
              "<div>\n",
              "<style scoped>\n",
              "    .dataframe tbody tr th:only-of-type {\n",
              "        vertical-align: middle;\n",
              "    }\n",
              "\n",
              "    .dataframe tbody tr th {\n",
              "        vertical-align: top;\n",
              "    }\n",
              "\n",
              "    .dataframe thead th {\n",
              "        text-align: right;\n",
              "    }\n",
              "</style>\n",
              "<table border=\"1\" class=\"dataframe\">\n",
              "  <thead>\n",
              "    <tr style=\"text-align: right;\">\n",
              "      <th></th>\n",
              "      <th>A</th>\n",
              "      <th>B</th>\n",
              "      <th>C</th>\n",
              "      <th>D</th>\n",
              "      <th>E</th>\n",
              "      <th>F</th>\n",
              "      <th>new column</th>\n",
              "    </tr>\n",
              "  </thead>\n",
              "  <tbody>\n",
              "    <tr>\n",
              "      <th>2</th>\n",
              "      <td>0</td>\n",
              "      <td>0.110050</td>\n",
              "      <td>0.150955</td>\n",
              "      <td>0.103875</td>\n",
              "      <td>0.796365</td>\n",
              "      <td>0.900240</td>\n",
              "      <td>0.150955</td>\n",
              "    </tr>\n",
              "    <tr>\n",
              "      <th>3</th>\n",
              "      <td>0</td>\n",
              "      <td>0.580651</td>\n",
              "      <td>0.503657</td>\n",
              "      <td>0.195465</td>\n",
              "      <td>0.671641</td>\n",
              "      <td>0.867106</td>\n",
              "      <td>0.503657</td>\n",
              "    </tr>\n",
              "    <tr>\n",
              "      <th>4</th>\n",
              "      <td>0</td>\n",
              "      <td>0.512752</td>\n",
              "      <td>0.626403</td>\n",
              "      <td>0.687458</td>\n",
              "      <td>0.294036</td>\n",
              "      <td>0.981494</td>\n",
              "      <td>0.626403</td>\n",
              "    </tr>\n",
              "    <tr>\n",
              "      <th>5</th>\n",
              "      <td>0</td>\n",
              "      <td>0.089408</td>\n",
              "      <td>0.255870</td>\n",
              "      <td>0.783725</td>\n",
              "      <td>0.397538</td>\n",
              "      <td>1.181263</td>\n",
              "      <td>0.255870</td>\n",
              "    </tr>\n",
              "    <tr>\n",
              "      <th>10</th>\n",
              "      <td>0</td>\n",
              "      <td>0.124286</td>\n",
              "      <td>0.262778</td>\n",
              "      <td>0.512493</td>\n",
              "      <td>0.934918</td>\n",
              "      <td>1.447411</td>\n",
              "      <td>0.262778</td>\n",
              "    </tr>\n",
              "  </tbody>\n",
              "</table>\n",
              "</div>"
            ],
            "text/plain": [
              "    A         B         C         D         E         F  new column\n",
              "2   0  0.110050  0.150955  0.103875  0.796365  0.900240    0.150955\n",
              "3   0  0.580651  0.503657  0.195465  0.671641  0.867106    0.503657\n",
              "4   0  0.512752  0.626403  0.687458  0.294036  0.981494    0.626403\n",
              "5   0  0.089408  0.255870  0.783725  0.397538  1.181263    0.255870\n",
              "10  0  0.124286  0.262778  0.512493  0.934918  1.447411    0.262778"
            ]
          },
          "metadata": {
            "tags": []
          },
          "execution_count": 70
        }
      ]
    },
    {
      "cell_type": "markdown",
      "metadata": {
        "id": "Q_OQtlJduygZ",
        "colab_type": "text"
      },
      "source": [
        "18. Transpose table"
      ]
    },
    {
      "cell_type": "code",
      "metadata": {
        "id": "56LZSnRq59DK",
        "colab_type": "code",
        "colab": {
          "base_uri": "https://localhost:8080/",
          "height": 301
        },
        "outputId": "c2ae2391-ec9a-43ef-e126-16aefcf8fc8d"
      },
      "source": [
        "df_3.T"
      ],
      "execution_count": 71,
      "outputs": [
        {
          "output_type": "execute_result",
          "data": {
            "text/html": [
              "<div>\n",
              "<style scoped>\n",
              "    .dataframe tbody tr th:only-of-type {\n",
              "        vertical-align: middle;\n",
              "    }\n",
              "\n",
              "    .dataframe tbody tr th {\n",
              "        vertical-align: top;\n",
              "    }\n",
              "\n",
              "    .dataframe thead th {\n",
              "        text-align: right;\n",
              "    }\n",
              "</style>\n",
              "<table border=\"1\" class=\"dataframe\">\n",
              "  <thead>\n",
              "    <tr style=\"text-align: right;\">\n",
              "      <th></th>\n",
              "      <th>2</th>\n",
              "      <th>3</th>\n",
              "      <th>4</th>\n",
              "      <th>5</th>\n",
              "      <th>10</th>\n",
              "      <th>11</th>\n",
              "      <th>12</th>\n",
              "      <th>15</th>\n",
              "      <th>17</th>\n",
              "      <th>21</th>\n",
              "      <th>23</th>\n",
              "      <th>25</th>\n",
              "      <th>26</th>\n",
              "      <th>27</th>\n",
              "      <th>28</th>\n",
              "      <th>31</th>\n",
              "      <th>35</th>\n",
              "      <th>37</th>\n",
              "      <th>38</th>\n",
              "      <th>41</th>\n",
              "      <th>43</th>\n",
              "      <th>44</th>\n",
              "      <th>45</th>\n",
              "      <th>49</th>\n",
              "    </tr>\n",
              "  </thead>\n",
              "  <tbody>\n",
              "    <tr>\n",
              "      <th>A</th>\n",
              "      <td>0.000000</td>\n",
              "      <td>0.000000</td>\n",
              "      <td>0.000000</td>\n",
              "      <td>0.000000</td>\n",
              "      <td>0.000000</td>\n",
              "      <td>0.000000</td>\n",
              "      <td>0.000000</td>\n",
              "      <td>0.000000</td>\n",
              "      <td>0.000000</td>\n",
              "      <td>0.000000</td>\n",
              "      <td>0.000000</td>\n",
              "      <td>0.000000</td>\n",
              "      <td>0.000000</td>\n",
              "      <td>0.000000</td>\n",
              "      <td>0.000000</td>\n",
              "      <td>0.000000</td>\n",
              "      <td>0.000000</td>\n",
              "      <td>0.000000</td>\n",
              "      <td>0.000000</td>\n",
              "      <td>0.000000</td>\n",
              "      <td>0.000000</td>\n",
              "      <td>0.000000</td>\n",
              "      <td>0.000000</td>\n",
              "      <td>0.000000</td>\n",
              "    </tr>\n",
              "    <tr>\n",
              "      <th>B</th>\n",
              "      <td>0.110050</td>\n",
              "      <td>0.580651</td>\n",
              "      <td>0.512752</td>\n",
              "      <td>0.089408</td>\n",
              "      <td>0.124286</td>\n",
              "      <td>0.950713</td>\n",
              "      <td>0.043069</td>\n",
              "      <td>0.642934</td>\n",
              "      <td>0.951214</td>\n",
              "      <td>0.805210</td>\n",
              "      <td>0.186351</td>\n",
              "      <td>0.837044</td>\n",
              "      <td>0.952977</td>\n",
              "      <td>0.471375</td>\n",
              "      <td>0.502249</td>\n",
              "      <td>0.662930</td>\n",
              "      <td>0.356143</td>\n",
              "      <td>0.206406</td>\n",
              "      <td>0.262559</td>\n",
              "      <td>0.610956</td>\n",
              "      <td>0.462179</td>\n",
              "      <td>0.041735</td>\n",
              "      <td>0.015714</td>\n",
              "      <td>0.109509</td>\n",
              "    </tr>\n",
              "    <tr>\n",
              "      <th>C</th>\n",
              "      <td>0.150955</td>\n",
              "      <td>0.503657</td>\n",
              "      <td>0.626403</td>\n",
              "      <td>0.255870</td>\n",
              "      <td>0.262778</td>\n",
              "      <td>0.996832</td>\n",
              "      <td>0.194549</td>\n",
              "      <td>0.056786</td>\n",
              "      <td>0.770457</td>\n",
              "      <td>0.465898</td>\n",
              "      <td>0.011836</td>\n",
              "      <td>0.483397</td>\n",
              "      <td>0.702173</td>\n",
              "      <td>0.298713</td>\n",
              "      <td>0.812483</td>\n",
              "      <td>0.366668</td>\n",
              "      <td>0.601906</td>\n",
              "      <td>0.380962</td>\n",
              "      <td>0.588158</td>\n",
              "      <td>0.429491</td>\n",
              "      <td>0.564195</td>\n",
              "      <td>0.715358</td>\n",
              "      <td>0.020033</td>\n",
              "      <td>0.503879</td>\n",
              "    </tr>\n",
              "    <tr>\n",
              "      <th>D</th>\n",
              "      <td>0.103875</td>\n",
              "      <td>0.195465</td>\n",
              "      <td>0.687458</td>\n",
              "      <td>0.783725</td>\n",
              "      <td>0.512493</td>\n",
              "      <td>0.314328</td>\n",
              "      <td>0.225729</td>\n",
              "      <td>0.448122</td>\n",
              "      <td>0.676175</td>\n",
              "      <td>0.845987</td>\n",
              "      <td>0.097006</td>\n",
              "      <td>0.063285</td>\n",
              "      <td>0.168939</td>\n",
              "      <td>0.141223</td>\n",
              "      <td>0.033029</td>\n",
              "      <td>0.406017</td>\n",
              "      <td>0.093861</td>\n",
              "      <td>0.060744</td>\n",
              "      <td>0.845755</td>\n",
              "      <td>0.182394</td>\n",
              "      <td>0.354635</td>\n",
              "      <td>0.207168</td>\n",
              "      <td>0.107409</td>\n",
              "      <td>0.238276</td>\n",
              "    </tr>\n",
              "    <tr>\n",
              "      <th>E</th>\n",
              "      <td>0.796365</td>\n",
              "      <td>0.671641</td>\n",
              "      <td>0.294036</td>\n",
              "      <td>0.397538</td>\n",
              "      <td>0.934918</td>\n",
              "      <td>0.182351</td>\n",
              "      <td>0.350417</td>\n",
              "      <td>0.768208</td>\n",
              "      <td>0.139730</td>\n",
              "      <td>0.195403</td>\n",
              "      <td>0.945907</td>\n",
              "      <td>0.505949</td>\n",
              "      <td>0.784613</td>\n",
              "      <td>0.776540</td>\n",
              "      <td>0.361729</td>\n",
              "      <td>0.054738</td>\n",
              "      <td>0.675494</td>\n",
              "      <td>0.701114</td>\n",
              "      <td>0.981993</td>\n",
              "      <td>0.523656</td>\n",
              "      <td>0.156965</td>\n",
              "      <td>0.701256</td>\n",
              "      <td>0.314200</td>\n",
              "      <td>0.258847</td>\n",
              "    </tr>\n",
              "    <tr>\n",
              "      <th>F</th>\n",
              "      <td>0.900240</td>\n",
              "      <td>0.867106</td>\n",
              "      <td>0.981494</td>\n",
              "      <td>1.181263</td>\n",
              "      <td>1.447411</td>\n",
              "      <td>0.496680</td>\n",
              "      <td>0.576146</td>\n",
              "      <td>1.216331</td>\n",
              "      <td>0.815905</td>\n",
              "      <td>1.041390</td>\n",
              "      <td>1.042913</td>\n",
              "      <td>0.569233</td>\n",
              "      <td>0.953551</td>\n",
              "      <td>0.917762</td>\n",
              "      <td>0.394757</td>\n",
              "      <td>0.460754</td>\n",
              "      <td>0.769354</td>\n",
              "      <td>0.761859</td>\n",
              "      <td>1.827748</td>\n",
              "      <td>0.706050</td>\n",
              "      <td>0.511601</td>\n",
              "      <td>0.908425</td>\n",
              "      <td>0.421609</td>\n",
              "      <td>0.497123</td>\n",
              "    </tr>\n",
              "    <tr>\n",
              "      <th>new column</th>\n",
              "      <td>0.150955</td>\n",
              "      <td>0.503657</td>\n",
              "      <td>0.626403</td>\n",
              "      <td>0.255870</td>\n",
              "      <td>0.262778</td>\n",
              "      <td>0.996832</td>\n",
              "      <td>0.194549</td>\n",
              "      <td>0.056786</td>\n",
              "      <td>0.770457</td>\n",
              "      <td>0.465898</td>\n",
              "      <td>0.011836</td>\n",
              "      <td>0.483397</td>\n",
              "      <td>0.702173</td>\n",
              "      <td>0.298713</td>\n",
              "      <td>0.812483</td>\n",
              "      <td>0.366668</td>\n",
              "      <td>0.601906</td>\n",
              "      <td>0.380962</td>\n",
              "      <td>0.588158</td>\n",
              "      <td>0.429491</td>\n",
              "      <td>0.564195</td>\n",
              "      <td>0.715358</td>\n",
              "      <td>0.020033</td>\n",
              "      <td>0.503879</td>\n",
              "    </tr>\n",
              "  </tbody>\n",
              "</table>\n",
              "</div>"
            ],
            "text/plain": [
              "                  2         3         4   ...        44        45        49\n",
              "A           0.000000  0.000000  0.000000  ...  0.000000  0.000000  0.000000\n",
              "B           0.110050  0.580651  0.512752  ...  0.041735  0.015714  0.109509\n",
              "C           0.150955  0.503657  0.626403  ...  0.715358  0.020033  0.503879\n",
              "D           0.103875  0.195465  0.687458  ...  0.207168  0.107409  0.238276\n",
              "E           0.796365  0.671641  0.294036  ...  0.701256  0.314200  0.258847\n",
              "F           0.900240  0.867106  0.981494  ...  0.908425  0.421609  0.497123\n",
              "new column  0.150955  0.503657  0.626403  ...  0.715358  0.020033  0.503879\n",
              "\n",
              "[7 rows x 24 columns]"
            ]
          },
          "metadata": {
            "tags": []
          },
          "execution_count": 71
        }
      ]
    },
    {
      "cell_type": "code",
      "metadata": {
        "id": "GzozjPRi6A6h",
        "colab_type": "code",
        "colab": {
          "base_uri": "https://localhost:8080/",
          "height": 34
        },
        "outputId": "51b60729-d53e-42bf-cd94-6d998f0dbb32"
      },
      "source": [
        "df.shape"
      ],
      "execution_count": 72,
      "outputs": [
        {
          "output_type": "execute_result",
          "data": {
            "text/plain": [
              "(98, 6)"
            ]
          },
          "metadata": {
            "tags": []
          },
          "execution_count": 72
        }
      ]
    },
    {
      "cell_type": "markdown",
      "metadata": {
        "id": "iiokKgyNu4dS",
        "colab_type": "text"
      },
      "source": [
        "19. Make a copy of a dataset."
      ]
    },
    {
      "cell_type": "code",
      "metadata": {
        "id": "-jOBazWa6DWg",
        "colab_type": "code",
        "colab": {
          "base_uri": "https://localhost:8080/",
          "height": 202
        },
        "outputId": "0c16d991-bf75-40e7-dfb3-71475ad66235"
      },
      "source": [
        "df_4 = df_3.copy()\n",
        "df_4.head()"
      ],
      "execution_count": 74,
      "outputs": [
        {
          "output_type": "execute_result",
          "data": {
            "text/html": [
              "<div>\n",
              "<style scoped>\n",
              "    .dataframe tbody tr th:only-of-type {\n",
              "        vertical-align: middle;\n",
              "    }\n",
              "\n",
              "    .dataframe tbody tr th {\n",
              "        vertical-align: top;\n",
              "    }\n",
              "\n",
              "    .dataframe thead th {\n",
              "        text-align: right;\n",
              "    }\n",
              "</style>\n",
              "<table border=\"1\" class=\"dataframe\">\n",
              "  <thead>\n",
              "    <tr style=\"text-align: right;\">\n",
              "      <th></th>\n",
              "      <th>A</th>\n",
              "      <th>B</th>\n",
              "      <th>C</th>\n",
              "      <th>D</th>\n",
              "      <th>E</th>\n",
              "      <th>F</th>\n",
              "      <th>new column</th>\n",
              "    </tr>\n",
              "  </thead>\n",
              "  <tbody>\n",
              "    <tr>\n",
              "      <th>2</th>\n",
              "      <td>0</td>\n",
              "      <td>0.110050</td>\n",
              "      <td>0.150955</td>\n",
              "      <td>0.103875</td>\n",
              "      <td>0.796365</td>\n",
              "      <td>0.900240</td>\n",
              "      <td>0.150955</td>\n",
              "    </tr>\n",
              "    <tr>\n",
              "      <th>3</th>\n",
              "      <td>0</td>\n",
              "      <td>0.580651</td>\n",
              "      <td>0.503657</td>\n",
              "      <td>0.195465</td>\n",
              "      <td>0.671641</td>\n",
              "      <td>0.867106</td>\n",
              "      <td>0.503657</td>\n",
              "    </tr>\n",
              "    <tr>\n",
              "      <th>4</th>\n",
              "      <td>0</td>\n",
              "      <td>0.512752</td>\n",
              "      <td>0.626403</td>\n",
              "      <td>0.687458</td>\n",
              "      <td>0.294036</td>\n",
              "      <td>0.981494</td>\n",
              "      <td>0.626403</td>\n",
              "    </tr>\n",
              "    <tr>\n",
              "      <th>5</th>\n",
              "      <td>0</td>\n",
              "      <td>0.089408</td>\n",
              "      <td>0.255870</td>\n",
              "      <td>0.783725</td>\n",
              "      <td>0.397538</td>\n",
              "      <td>1.181263</td>\n",
              "      <td>0.255870</td>\n",
              "    </tr>\n",
              "    <tr>\n",
              "      <th>10</th>\n",
              "      <td>0</td>\n",
              "      <td>0.124286</td>\n",
              "      <td>0.262778</td>\n",
              "      <td>0.512493</td>\n",
              "      <td>0.934918</td>\n",
              "      <td>1.447411</td>\n",
              "      <td>0.262778</td>\n",
              "    </tr>\n",
              "  </tbody>\n",
              "</table>\n",
              "</div>"
            ],
            "text/plain": [
              "    A         B         C         D         E         F  new column\n",
              "2   0  0.110050  0.150955  0.103875  0.796365  0.900240    0.150955\n",
              "3   0  0.580651  0.503657  0.195465  0.671641  0.867106    0.503657\n",
              "4   0  0.512752  0.626403  0.687458  0.294036  0.981494    0.626403\n",
              "5   0  0.089408  0.255870  0.783725  0.397538  1.181263    0.255870\n",
              "10  0  0.124286  0.262778  0.512493  0.934918  1.447411    0.262778"
            ]
          },
          "metadata": {
            "tags": []
          },
          "execution_count": 74
        }
      ]
    },
    {
      "cell_type": "markdown",
      "metadata": {
        "id": "QYQVdk_cvSSF",
        "colab_type": "text"
      },
      "source": [
        "20. Download to csv."
      ]
    },
    {
      "cell_type": "code",
      "metadata": {
        "id": "XF6RCRn36Pr6",
        "colab_type": "code",
        "colab": {}
      },
      "source": [
        "df_4.to_csv('success.csv')"
      ],
      "execution_count": 0,
      "outputs": []
    },
    {
      "cell_type": "markdown",
      "metadata": {
        "id": "qraHSudrt8kA",
        "colab_type": "text"
      },
      "source": [
        ""
      ]
    }
  ]
}