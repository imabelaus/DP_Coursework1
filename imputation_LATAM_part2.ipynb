{
  "nbformat": 4,
  "nbformat_minor": 0,
  "metadata": {
    "colab": {
      "name": "imputation_LATAM_part2.ipynb",
      "version": "0.3.2",
      "provenance": []
    },
    "kernelspec": {
      "name": "python3",
      "display_name": "Python 3"
    }
  },
  "cells": [
    {
      "cell_type": "code",
      "metadata": {
        "id": "IzpAXWVTxrXu",
        "colab_type": "code",
        "colab": {}
      },
      "source": [
        "import numpy as np\n",
        "import pandas as pd"
      ],
      "execution_count": 0,
      "outputs": []
    },
    {
      "cell_type": "code",
      "metadata": {
        "id": "sVQiQmTPy1j-",
        "colab_type": "code",
        "colab": {}
      },
      "source": [
        "from keras.preprocessing.text import Tokenizer\n",
        "from keras.preprocessing.sequence import pad_sequences\n",
        "from keras.models import Sequential\n",
        "from keras import layers\n",
        "from sklearn.model_selection import train_test_split\n",
        "from sklearn.metrics import confusion_matrix\n",
        "import pandas as pd"
      ],
      "execution_count": 0,
      "outputs": []
    },
    {
      "cell_type": "code",
      "metadata": {
        "id": "iHXTGdWAueb0",
        "colab_type": "code",
        "outputId": "1ee7daee-0039-4954-cf40-3616d21da398",
        "colab": {
          "base_uri": "https://localhost:8080/",
          "height": 72
        }
      },
      "source": [
        "import fancyimpute"
      ],
      "execution_count": 0,
      "outputs": [
        {
          "output_type": "stream",
          "text": [
            "/usr/local/lib/python3.6/dist-packages/sklearn/externals/six.py:31: DeprecationWarning: The module is deprecated in version 0.21 and will be removed in version 0.23 since we've dropped support for Python 2.7. Please rely on the official version of six (https://pypi.org/project/six/).\n",
            "  \"(https://pypi.org/project/six/).\", DeprecationWarning)\n"
          ],
          "name": "stderr"
        }
      ]
    },
    {
      "cell_type": "code",
      "metadata": {
        "id": "-WXWlLGFvPNl",
        "colab_type": "code",
        "colab": {}
      },
      "source": [
        "from fancyimpute import IterativeImputer"
      ],
      "execution_count": 0,
      "outputs": []
    },
    {
      "cell_type": "code",
      "metadata": {
        "id": "WLP8oaWt9lPS",
        "colab_type": "code",
        "colab": {}
      },
      "source": [
        "import missingno as mno\n",
        "from sklearn import linear_model"
      ],
      "execution_count": 0,
      "outputs": []
    },
    {
      "cell_type": "code",
      "metadata": {
        "id": "O6j9MJebzB3i",
        "colab_type": "code",
        "colab": {}
      },
      "source": [
        "df = pd.read_csv('/content/Latam_mastersheet - Sheet2.csv')"
      ],
      "execution_count": 0,
      "outputs": []
    },
    {
      "cell_type": "code",
      "metadata": {
        "id": "-e_f30BYmXpa",
        "colab_type": "code",
        "colab": {}
      },
      "source": [
        "my_imputer = IterativeImputer()\n",
        "df_complete = my_imputer.fit_transform(df)\n"
      ],
      "execution_count": 0,
      "outputs": []
    },
    {
      "cell_type": "code",
      "metadata": {
        "id": "-1jOYDDdvn3q",
        "colab_type": "code",
        "outputId": "10af90a1-e100-40ab-d90b-39ea95e3a2bb",
        "colab": {
          "base_uri": "https://localhost:8080/",
          "height": 242
        }
      },
      "source": [
        "df_complete"
      ],
      "execution_count": 0,
      "outputs": [
        {
          "output_type": "execute_result",
          "data": {
            "text/plain": [
              "array([[2.44756031, 2.80511951, 4.06130903, ..., 3.37724996, 5.17074596,\n",
              "        7.21700001],\n",
              "       [2.45930123, 3.30239272, 4.56628276, ..., 3.78259158, 5.19603569,\n",
              "        7.19299984],\n",
              "       [3.50428152, 4.10140943, 3.88318892, ..., 3.51859426, 5.02165621,\n",
              "        6.65899992],\n",
              "       ...,\n",
              "       [2.5493798 , 4.11827649, 4.07540917, ..., 3.703539  , 4.39200458,\n",
              "        8.72000027],\n",
              "       [2.44357089, 3.94682862, 3.99178578, ..., 2.88669741, 3.48631742,\n",
              "        7.73999977],\n",
              "       [2.67008818, 4.12117942, 4.0727591 , ..., 4.352597  , 4.89359129,\n",
              "        8.05000019]])"
            ]
          },
          "metadata": {
            "tags": []
          },
          "execution_count": 75
        }
      ]
    },
    {
      "cell_type": "code",
      "metadata": {
        "id": "9z7MBYggwAA3",
        "colab_type": "code",
        "colab": {}
      },
      "source": [
        "df_imputed = pd.DataFrame(df_complete)"
      ],
      "execution_count": 0,
      "outputs": []
    },
    {
      "cell_type": "code",
      "metadata": {
        "id": "QdfgZzDqwFhl",
        "colab_type": "code",
        "outputId": "8e56f0f0-2d15-4d8b-ca44-99b3996c7b73",
        "colab": {
          "base_uri": "https://localhost:8080/",
          "height": 218
        }
      },
      "source": [
        "df_imputed.head()"
      ],
      "execution_count": 0,
      "outputs": [
        {
          "output_type": "execute_result",
          "data": {
            "text/html": [
              "<div>\n",
              "<style scoped>\n",
              "    .dataframe tbody tr th:only-of-type {\n",
              "        vertical-align: middle;\n",
              "    }\n",
              "\n",
              "    .dataframe tbody tr th {\n",
              "        vertical-align: top;\n",
              "    }\n",
              "\n",
              "    .dataframe thead th {\n",
              "        text-align: right;\n",
              "    }\n",
              "</style>\n",
              "<table border=\"1\" class=\"dataframe\">\n",
              "  <thead>\n",
              "    <tr style=\"text-align: right;\">\n",
              "      <th></th>\n",
              "      <th>0</th>\n",
              "      <th>1</th>\n",
              "      <th>2</th>\n",
              "      <th>3</th>\n",
              "      <th>4</th>\n",
              "      <th>5</th>\n",
              "      <th>6</th>\n",
              "      <th>7</th>\n",
              "      <th>8</th>\n",
              "      <th>9</th>\n",
              "      <th>10</th>\n",
              "      <th>11</th>\n",
              "      <th>12</th>\n",
              "      <th>13</th>\n",
              "      <th>14</th>\n",
              "      <th>15</th>\n",
              "      <th>16</th>\n",
              "    </tr>\n",
              "  </thead>\n",
              "  <tbody>\n",
              "    <tr>\n",
              "      <th>0</th>\n",
              "      <td>2.447560</td>\n",
              "      <td>2.805120</td>\n",
              "      <td>4.061309</td>\n",
              "      <td>3.430802</td>\n",
              "      <td>4.195683</td>\n",
              "      <td>3.930331</td>\n",
              "      <td>4.613002</td>\n",
              "      <td>57.310511</td>\n",
              "      <td>2.805120</td>\n",
              "      <td>4.085398</td>\n",
              "      <td>3.137428</td>\n",
              "      <td>4.657785</td>\n",
              "      <td>78.050150</td>\n",
              "      <td>139.814600</td>\n",
              "      <td>3.377250</td>\n",
              "      <td>5.170746</td>\n",
              "      <td>7.217</td>\n",
              "    </tr>\n",
              "    <tr>\n",
              "      <th>1</th>\n",
              "      <td>2.459301</td>\n",
              "      <td>3.302393</td>\n",
              "      <td>4.566283</td>\n",
              "      <td>3.238514</td>\n",
              "      <td>4.296651</td>\n",
              "      <td>4.089989</td>\n",
              "      <td>4.598994</td>\n",
              "      <td>49.320929</td>\n",
              "      <td>3.302393</td>\n",
              "      <td>4.691751</td>\n",
              "      <td>2.703921</td>\n",
              "      <td>5.729115</td>\n",
              "      <td>90.236846</td>\n",
              "      <td>112.996557</td>\n",
              "      <td>3.782592</td>\n",
              "      <td>5.196036</td>\n",
              "      <td>7.193</td>\n",
              "    </tr>\n",
              "    <tr>\n",
              "      <th>2</th>\n",
              "      <td>3.504282</td>\n",
              "      <td>4.101409</td>\n",
              "      <td>3.883189</td>\n",
              "      <td>3.885442</td>\n",
              "      <td>3.263582</td>\n",
              "      <td>3.997062</td>\n",
              "      <td>4.922818</td>\n",
              "      <td>59.537574</td>\n",
              "      <td>4.101409</td>\n",
              "      <td>5.646328</td>\n",
              "      <td>3.370471</td>\n",
              "      <td>6.333855</td>\n",
              "      <td>88.247675</td>\n",
              "      <td>127.463286</td>\n",
              "      <td>3.518594</td>\n",
              "      <td>5.021656</td>\n",
              "      <td>6.659</td>\n",
              "    </tr>\n",
              "    <tr>\n",
              "      <th>3</th>\n",
              "      <td>2.886229</td>\n",
              "      <td>3.680098</td>\n",
              "      <td>3.975811</td>\n",
              "      <td>3.878223</td>\n",
              "      <td>4.121078</td>\n",
              "      <td>3.735612</td>\n",
              "      <td>5.138438</td>\n",
              "      <td>62.330840</td>\n",
              "      <td>3.680098</td>\n",
              "      <td>4.784922</td>\n",
              "      <td>3.613748</td>\n",
              "      <td>5.579168</td>\n",
              "      <td>48.799955</td>\n",
              "      <td>126.813882</td>\n",
              "      <td>3.503555</td>\n",
              "      <td>5.061698</td>\n",
              "      <td>9.740</td>\n",
              "    </tr>\n",
              "    <tr>\n",
              "      <th>4</th>\n",
              "      <td>3.152481</td>\n",
              "      <td>3.589537</td>\n",
              "      <td>4.556806</td>\n",
              "      <td>3.626325</td>\n",
              "      <td>4.125878</td>\n",
              "      <td>4.043954</td>\n",
              "      <td>4.907667</td>\n",
              "      <td>35.623955</td>\n",
              "      <td>3.589537</td>\n",
              "      <td>4.973308</td>\n",
              "      <td>3.131883</td>\n",
              "      <td>5.523331</td>\n",
              "      <td>63.613795</td>\n",
              "      <td>88.513427</td>\n",
              "      <td>3.480606</td>\n",
              "      <td>5.331116</td>\n",
              "      <td>4.887</td>\n",
              "    </tr>\n",
              "  </tbody>\n",
              "</table>\n",
              "</div>"
            ],
            "text/plain": [
              "         0         1         2   ...        14        15     16\n",
              "0  2.447560  2.805120  4.061309  ...  3.377250  5.170746  7.217\n",
              "1  2.459301  3.302393  4.566283  ...  3.782592  5.196036  7.193\n",
              "2  3.504282  4.101409  3.883189  ...  3.518594  5.021656  6.659\n",
              "3  2.886229  3.680098  3.975811  ...  3.503555  5.061698  9.740\n",
              "4  3.152481  3.589537  4.556806  ...  3.480606  5.331116  4.887\n",
              "\n",
              "[5 rows x 17 columns]"
            ]
          },
          "metadata": {
            "tags": []
          },
          "execution_count": 77
        }
      ]
    },
    {
      "cell_type": "code",
      "metadata": {
        "id": "MN7ZnfhjwLSG",
        "colab_type": "code",
        "outputId": "2831f210-0c7c-48b0-f64b-c4f124e82944",
        "colab": {
          "base_uri": "https://localhost:8080/",
          "height": 308
        }
      },
      "source": [
        "df_imputed.describe()"
      ],
      "execution_count": 0,
      "outputs": [
        {
          "output_type": "execute_result",
          "data": {
            "text/html": [
              "<div>\n",
              "<style scoped>\n",
              "    .dataframe tbody tr th:only-of-type {\n",
              "        vertical-align: middle;\n",
              "    }\n",
              "\n",
              "    .dataframe tbody tr th {\n",
              "        vertical-align: top;\n",
              "    }\n",
              "\n",
              "    .dataframe thead th {\n",
              "        text-align: right;\n",
              "    }\n",
              "</style>\n",
              "<table border=\"1\" class=\"dataframe\">\n",
              "  <thead>\n",
              "    <tr style=\"text-align: right;\">\n",
              "      <th></th>\n",
              "      <th>0</th>\n",
              "      <th>1</th>\n",
              "      <th>2</th>\n",
              "      <th>3</th>\n",
              "      <th>4</th>\n",
              "      <th>5</th>\n",
              "      <th>6</th>\n",
              "      <th>7</th>\n",
              "      <th>8</th>\n",
              "      <th>9</th>\n",
              "      <th>10</th>\n",
              "      <th>11</th>\n",
              "      <th>12</th>\n",
              "      <th>13</th>\n",
              "      <th>14</th>\n",
              "      <th>15</th>\n",
              "      <th>16</th>\n",
              "    </tr>\n",
              "  </thead>\n",
              "  <tbody>\n",
              "    <tr>\n",
              "      <th>count</th>\n",
              "      <td>130.000000</td>\n",
              "      <td>130.000000</td>\n",
              "      <td>130.000000</td>\n",
              "      <td>130.000000</td>\n",
              "      <td>130.000000</td>\n",
              "      <td>130.000000</td>\n",
              "      <td>130.000000</td>\n",
              "      <td>130.000000</td>\n",
              "      <td>130.000000</td>\n",
              "      <td>130.000000</td>\n",
              "      <td>130.000000</td>\n",
              "      <td>130.000000</td>\n",
              "      <td>130.000000</td>\n",
              "      <td>130.000000</td>\n",
              "      <td>130.000000</td>\n",
              "      <td>130.000000</td>\n",
              "      <td>130.000000</td>\n",
              "    </tr>\n",
              "    <tr>\n",
              "      <th>mean</th>\n",
              "      <td>2.599301</td>\n",
              "      <td>4.116651</td>\n",
              "      <td>4.204147</td>\n",
              "      <td>3.306270</td>\n",
              "      <td>3.907070</td>\n",
              "      <td>4.456878</td>\n",
              "      <td>4.445115</td>\n",
              "      <td>38.560820</td>\n",
              "      <td>4.087213</td>\n",
              "      <td>4.202607</td>\n",
              "      <td>2.883262</td>\n",
              "      <td>5.355232</td>\n",
              "      <td>26.343975</td>\n",
              "      <td>103.083540</td>\n",
              "      <td>3.904607</td>\n",
              "      <td>4.593792</td>\n",
              "      <td>6.711277</td>\n",
              "    </tr>\n",
              "    <tr>\n",
              "      <th>std</th>\n",
              "      <td>0.418298</td>\n",
              "      <td>0.678130</td>\n",
              "      <td>0.507219</td>\n",
              "      <td>0.447408</td>\n",
              "      <td>1.410570</td>\n",
              "      <td>0.643354</td>\n",
              "      <td>0.747817</td>\n",
              "      <td>14.761993</td>\n",
              "      <td>0.661554</td>\n",
              "      <td>0.556989</td>\n",
              "      <td>0.598818</td>\n",
              "      <td>0.648497</td>\n",
              "      <td>22.439168</td>\n",
              "      <td>29.480701</td>\n",
              "      <td>1.132258</td>\n",
              "      <td>0.858048</td>\n",
              "      <td>2.836707</td>\n",
              "    </tr>\n",
              "    <tr>\n",
              "      <th>min</th>\n",
              "      <td>1.745999</td>\n",
              "      <td>2.713680</td>\n",
              "      <td>2.922948</td>\n",
              "      <td>2.104724</td>\n",
              "      <td>1.537637</td>\n",
              "      <td>2.690154</td>\n",
              "      <td>2.477433</td>\n",
              "      <td>4.126460</td>\n",
              "      <td>2.713680</td>\n",
              "      <td>2.794357</td>\n",
              "      <td>1.672877</td>\n",
              "      <td>3.633823</td>\n",
              "      <td>-7.627568</td>\n",
              "      <td>30.748390</td>\n",
              "      <td>1.279274</td>\n",
              "      <td>2.578139</td>\n",
              "      <td>2.007000</td>\n",
              "    </tr>\n",
              "    <tr>\n",
              "      <th>25%</th>\n",
              "      <td>2.317200</td>\n",
              "      <td>3.655765</td>\n",
              "      <td>3.864539</td>\n",
              "      <td>3.075418</td>\n",
              "      <td>3.250343</td>\n",
              "      <td>4.001116</td>\n",
              "      <td>3.821616</td>\n",
              "      <td>30.099989</td>\n",
              "      <td>3.638406</td>\n",
              "      <td>3.848359</td>\n",
              "      <td>2.443369</td>\n",
              "      <td>5.028243</td>\n",
              "      <td>8.777988</td>\n",
              "      <td>86.200676</td>\n",
              "      <td>3.103933</td>\n",
              "      <td>3.999354</td>\n",
              "      <td>4.144250</td>\n",
              "    </tr>\n",
              "    <tr>\n",
              "      <th>50%</th>\n",
              "      <td>2.549380</td>\n",
              "      <td>4.035947</td>\n",
              "      <td>4.122560</td>\n",
              "      <td>3.325806</td>\n",
              "      <td>3.609919</td>\n",
              "      <td>4.431432</td>\n",
              "      <td>4.420288</td>\n",
              "      <td>36.760434</td>\n",
              "      <td>4.004216</td>\n",
              "      <td>4.109007</td>\n",
              "      <td>2.787927</td>\n",
              "      <td>5.446974</td>\n",
              "      <td>21.912254</td>\n",
              "      <td>98.421404</td>\n",
              "      <td>3.901867</td>\n",
              "      <td>4.755224</td>\n",
              "      <td>6.945000</td>\n",
              "    </tr>\n",
              "    <tr>\n",
              "      <th>75%</th>\n",
              "      <td>2.878356</td>\n",
              "      <td>4.441073</td>\n",
              "      <td>4.562907</td>\n",
              "      <td>3.494991</td>\n",
              "      <td>4.120757</td>\n",
              "      <td>4.855955</td>\n",
              "      <td>5.112414</td>\n",
              "      <td>49.236776</td>\n",
              "      <td>4.357408</td>\n",
              "      <td>4.550128</td>\n",
              "      <td>3.304398</td>\n",
              "      <td>5.768103</td>\n",
              "      <td>37.225844</td>\n",
              "      <td>124.155807</td>\n",
              "      <td>4.618444</td>\n",
              "      <td>5.138615</td>\n",
              "      <td>8.335000</td>\n",
              "    </tr>\n",
              "    <tr>\n",
              "      <th>max</th>\n",
              "      <td>3.744064</td>\n",
              "      <td>5.865252</td>\n",
              "      <td>5.516477</td>\n",
              "      <td>4.399918</td>\n",
              "      <td>10.077030</td>\n",
              "      <td>6.049107</td>\n",
              "      <td>6.095396</td>\n",
              "      <td>72.350000</td>\n",
              "      <td>5.865252</td>\n",
              "      <td>5.646328</td>\n",
              "      <td>4.475000</td>\n",
              "      <td>6.514449</td>\n",
              "      <td>90.236846</td>\n",
              "      <td>182.898863</td>\n",
              "      <td>6.533621</td>\n",
              "      <td>6.487304</td>\n",
              "      <td>12.827000</td>\n",
              "    </tr>\n",
              "  </tbody>\n",
              "</table>\n",
              "</div>"
            ],
            "text/plain": [
              "               0           1           2   ...          14          15          16\n",
              "count  130.000000  130.000000  130.000000  ...  130.000000  130.000000  130.000000\n",
              "mean     2.599301    4.116651    4.204147  ...    3.904607    4.593792    6.711277\n",
              "std      0.418298    0.678130    0.507219  ...    1.132258    0.858048    2.836707\n",
              "min      1.745999    2.713680    2.922948  ...    1.279274    2.578139    2.007000\n",
              "25%      2.317200    3.655765    3.864539  ...    3.103933    3.999354    4.144250\n",
              "50%      2.549380    4.035947    4.122560  ...    3.901867    4.755224    6.945000\n",
              "75%      2.878356    4.441073    4.562907  ...    4.618444    5.138615    8.335000\n",
              "max      3.744064    5.865252    5.516477  ...    6.533621    6.487304   12.827000\n",
              "\n",
              "[8 rows x 17 columns]"
            ]
          },
          "metadata": {
            "tags": []
          },
          "execution_count": 78
        }
      ]
    },
    {
      "cell_type": "code",
      "metadata": {
        "id": "C9TH4zooF8qi",
        "colab_type": "code",
        "colab": {}
      },
      "source": [
        "from google.colab import files\n",
        "\n",
        "df_imputed.to_csv('LATAM_imputed.csv')\n",
        "files.download('LATAM_imputed.csv')"
      ],
      "execution_count": 0,
      "outputs": []
    }
  ]
}