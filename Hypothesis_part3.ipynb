{
  "nbformat": 4,
  "nbformat_minor": 0,
  "metadata": {
    "colab": {
      "name": "Hypothesis_part3.ipynb",
      "version": "0.3.2",
      "provenance": []
    },
    "kernelspec": {
      "name": "python3",
      "display_name": "Python 3"
    }
  },
  "cells": [
    {
      "cell_type": "code",
      "metadata": {
        "id": "0xVePoArJIYZ",
        "colab_type": "code",
        "colab": {}
      },
      "source": [
        "from scipy.stats import ttest_1samp\n",
        "import numpy as np\n",
        "import pandas as pd\n",
        "from scipy import stats"
      ],
      "execution_count": 0,
      "outputs": []
    },
    {
      "cell_type": "code",
      "metadata": {
        "id": "BoXWNCYqGiEi",
        "colab_type": "code",
        "colab": {}
      },
      "source": [
        "test_1 = pd.read_csv(\"/content/B2B_B2C_companies - B2C_number.csv\")"
      ],
      "execution_count": 0,
      "outputs": []
    },
    {
      "cell_type": "code",
      "metadata": {
        "id": "WAMA9J3aHZG2",
        "colab_type": "code",
        "outputId": "214056c7-eb19-4bf5-fdbb-46d992f9d69b",
        "colab": {
          "base_uri": "https://localhost:8080/",
          "height": 347
        }
      },
      "source": [
        "test_1.head(10)"
      ],
      "execution_count": 0,
      "outputs": [
        {
          "output_type": "execute_result",
          "data": {
            "text/html": [
              "<div>\n",
              "<style scoped>\n",
              "    .dataframe tbody tr th:only-of-type {\n",
              "        vertical-align: middle;\n",
              "    }\n",
              "\n",
              "    .dataframe tbody tr th {\n",
              "        vertical-align: top;\n",
              "    }\n",
              "\n",
              "    .dataframe thead th {\n",
              "        text-align: right;\n",
              "    }\n",
              "</style>\n",
              "<table border=\"1\" class=\"dataframe\">\n",
              "  <thead>\n",
              "    <tr style=\"text-align: right;\">\n",
              "      <th></th>\n",
              "      <th>Last_5_B2C</th>\n",
              "      <th>First_B2C</th>\n",
              "    </tr>\n",
              "  </thead>\n",
              "  <tbody>\n",
              "    <tr>\n",
              "      <th>0</th>\n",
              "      <td>11.0</td>\n",
              "      <td>12</td>\n",
              "    </tr>\n",
              "    <tr>\n",
              "      <th>1</th>\n",
              "      <td>23.0</td>\n",
              "      <td>8</td>\n",
              "    </tr>\n",
              "    <tr>\n",
              "      <th>2</th>\n",
              "      <td>24.0</td>\n",
              "      <td>6</td>\n",
              "    </tr>\n",
              "    <tr>\n",
              "      <th>3</th>\n",
              "      <td>56.0</td>\n",
              "      <td>21</td>\n",
              "    </tr>\n",
              "    <tr>\n",
              "      <th>4</th>\n",
              "      <td>40.0</td>\n",
              "      <td>13</td>\n",
              "    </tr>\n",
              "    <tr>\n",
              "      <th>5</th>\n",
              "      <td>37.0</td>\n",
              "      <td>5</td>\n",
              "    </tr>\n",
              "    <tr>\n",
              "      <th>6</th>\n",
              "      <td>25.0</td>\n",
              "      <td>6</td>\n",
              "    </tr>\n",
              "    <tr>\n",
              "      <th>7</th>\n",
              "      <td>69.0</td>\n",
              "      <td>23</td>\n",
              "    </tr>\n",
              "    <tr>\n",
              "      <th>8</th>\n",
              "      <td>36.0</td>\n",
              "      <td>7</td>\n",
              "    </tr>\n",
              "    <tr>\n",
              "      <th>9</th>\n",
              "      <td>20.0</td>\n",
              "      <td>3</td>\n",
              "    </tr>\n",
              "  </tbody>\n",
              "</table>\n",
              "</div>"
            ],
            "text/plain": [
              "   Last_5_B2C  First_B2C\n",
              "0        11.0         12\n",
              "1        23.0          8\n",
              "2        24.0          6\n",
              "3        56.0         21\n",
              "4        40.0         13\n",
              "5        37.0          5\n",
              "6        25.0          6\n",
              "7        69.0         23\n",
              "8        36.0          7\n",
              "9        20.0          3"
            ]
          },
          "metadata": {
            "tags": []
          },
          "execution_count": 20
        }
      ]
    },
    {
      "cell_type": "code",
      "metadata": {
        "id": "mv5mJ3EeHN94",
        "colab_type": "code",
        "colab": {}
      },
      "source": [
        "x = test_1['Last_5_B2C']"
      ],
      "execution_count": 0,
      "outputs": []
    },
    {
      "cell_type": "markdown",
      "metadata": {
        "id": "fyzRduiQyH7M",
        "colab_type": "text"
      },
      "source": [
        "The following command lines contain reused code lines of the following site: https://machinelearningmastery.com/statistical-hypothesis-tests-in-python-cheat-sheet/ However they are adapted to the specific problem assesed. "
      ]
    },
    {
      "cell_type": "code",
      "metadata": {
        "id": "zW8xqEJNk_eq",
        "colab_type": "code",
        "outputId": "e4c940b7-40c3-4ef3-887a-b517971a5352",
        "colab": {
          "base_uri": "https://localhost:8080/",
          "height": 52
        }
      },
      "source": [
        "from scipy import stats\n",
        "k2, p = stats.normaltest(x)\n",
        "alpha = .05\n",
        "print(\"p = {:g}\".format(p))\n",
        "if p < alpha:\n",
        "  print(\"The null hypothesis can be rejected\")\n",
        "else:\n",
        "    print(\"No normality\")\n",
        "\n"
      ],
      "execution_count": 0,
      "outputs": [
        {
          "output_type": "stream",
          "text": [
            "p = 3.12409e-05\n",
            "The null hypothesis can be rejected\n"
          ],
          "name": "stdout"
        }
      ]
    },
    {
      "cell_type": "code",
      "metadata": {
        "id": "mrEPtn3SJi_s",
        "colab_type": "code",
        "colab": {}
      },
      "source": [
        "y = test_1['First_B2C']"
      ],
      "execution_count": 0,
      "outputs": []
    },
    {
      "cell_type": "code",
      "metadata": {
        "id": "iOHAjtahJqFe",
        "colab_type": "code",
        "outputId": "66cc25e6-ced7-49a2-80d0-73d17f10efa1",
        "colab": {
          "base_uri": "https://localhost:8080/",
          "height": 52
        }
      },
      "source": [
        "from scipy import stats\n",
        "k2, p = stats.normaltest(y)\n",
        "alpha = .05\n",
        "print(\"p = {:g}\".format(p))\n",
        "if p < alpha:\n",
        "  print(\"The null hypothesis can be rejected\")\n",
        "else:\n",
        "    print(\"No normality\")\n"
      ],
      "execution_count": 0,
      "outputs": [
        {
          "output_type": "stream",
          "text": [
            "p = 3.75384e-09\n",
            "The null hypothesis can be rejected\n"
          ],
          "name": "stdout"
        }
      ]
    },
    {
      "cell_type": "markdown",
      "metadata": {
        "id": "CKn-0z7aO7Vr",
        "colab_type": "text"
      },
      "source": [
        "H1: B2C is growing is number"
      ]
    },
    {
      "cell_type": "code",
      "metadata": {
        "id": "Ujk3-Fl2JXGB",
        "colab_type": "code",
        "outputId": "f92bd4ad-ac29-48c0-bc19-89dd162f1edd",
        "colab": {
          "base_uri": "https://localhost:8080/",
          "height": 52
        }
      },
      "source": [
        "import pandas as pd\n",
        "from scipy import stats\n",
        "df_1 = pd.read_csv(\"/content/B2B_B2C_companies - B2C_number.csv\")\n",
        "df_1[['Last_5_B2C','First_B2C']].describe()\n",
        "ttest,pval = stats.ttest_rel(df_1['Last_5_B2C'], df_1['First_B2C'])\n",
        "print(pval)\n",
        "if pval<0.05:\n",
        "    print(\"reject null hypothesis\")\n",
        "else:\n",
        "    print(\"accept null hypothesis\")"
      ],
      "execution_count": 0,
      "outputs": [
        {
          "output_type": "stream",
          "text": [
            "4.066365380882651e-24\n",
            "reject null hypothesis\n"
          ],
          "name": "stdout"
        }
      ]
    },
    {
      "cell_type": "code",
      "metadata": {
        "id": "KhsKwQNMR-3I",
        "colab_type": "code",
        "colab": {}
      },
      "source": [
        "test_2 = pd.read_csv(\"/content/B2B_B2C_companies - B2B_number (4).csv\")"
      ],
      "execution_count": 0,
      "outputs": []
    },
    {
      "cell_type": "code",
      "metadata": {
        "id": "9BO9nafLSSp8",
        "colab_type": "code",
        "colab": {}
      },
      "source": [
        "x2 = test_2['Last_5_B2B']\n",
        "y2 = test_2['First_B2B']"
      ],
      "execution_count": 0,
      "outputs": []
    },
    {
      "cell_type": "code",
      "metadata": {
        "id": "NKlq7fx_SjKo",
        "colab_type": "code",
        "outputId": "bc330f4d-4e91-4cff-a17e-be12a05c05ee",
        "colab": {
          "base_uri": "https://localhost:8080/",
          "height": 52
        }
      },
      "source": [
        "k2, p = stats.normaltest(x2)\n",
        "alpha = .05\n",
        "print(\"p = {:g}\".format(p))\n",
        "if p < alpha:\n",
        "  print(\"The null hypothesis can be rejected\")\n",
        "else:\n",
        "    print(\"No normality\")"
      ],
      "execution_count": 0,
      "outputs": [
        {
          "output_type": "stream",
          "text": [
            "p = 0.000152764\n",
            "The null hypothesis can be rejected\n"
          ],
          "name": "stdout"
        }
      ]
    },
    {
      "cell_type": "code",
      "metadata": {
        "id": "Gn_FstrBSuAj",
        "colab_type": "code",
        "outputId": "c7bbd9e8-aa22-45f9-f179-27516e4e69e0",
        "colab": {
          "base_uri": "https://localhost:8080/",
          "height": 52
        }
      },
      "source": [
        "k2, p = stats.normaltest(y2)\n",
        "alpha = .05\n",
        "print(\"p = {:g}\".format(p))\n",
        "if p < alpha:\n",
        "  print(\"The null hypothesis can be rejected\")\n",
        "else:\n",
        "    print(\"No normality\")"
      ],
      "execution_count": 0,
      "outputs": [
        {
          "output_type": "stream",
          "text": [
            "p = 1.48977e-07\n",
            "The null hypothesis can be rejected\n"
          ],
          "name": "stdout"
        }
      ]
    },
    {
      "cell_type": "markdown",
      "metadata": {
        "id": "Zadh3HId7CnD",
        "colab_type": "text"
      },
      "source": [
        "Is B2B growing in number?"
      ]
    },
    {
      "cell_type": "code",
      "metadata": {
        "id": "Pz9Yy3p2TSnL",
        "colab_type": "code",
        "colab": {}
      },
      "source": [
        ""
      ],
      "execution_count": 0,
      "outputs": []
    },
    {
      "cell_type": "code",
      "metadata": {
        "id": "_RTngaR-7JiE",
        "colab_type": "code",
        "outputId": "fec0a981-0408-4185-e7c4-4d1c181a1838",
        "colab": {
          "base_uri": "https://localhost:8080/",
          "height": 52
        }
      },
      "source": [
        "import pandas as pd\n",
        "from scipy import stats\n",
        "df_2 = pd.read_csv(\"/content/B2B_B2C_companies - B2B_number (4).csv\")\n",
        "df_2[['Last_5_B2B','First_B2B']].describe()\n",
        "ttest,pval = stats.ttest_rel(df_2['Last_5_B2B'], df_2['First_B2B'])\n",
        "print(pval)\n",
        "if pval<0.05:\n",
        "    print(\"reject null hypothesis\")\n",
        "else:\n",
        "    print(\"accept null hypothesis\")"
      ],
      "execution_count": 0,
      "outputs": [
        {
          "output_type": "stream",
          "text": [
            "1.6190689477759134e-27\n",
            "reject null hypothesis\n"
          ],
          "name": "stdout"
        }
      ]
    },
    {
      "cell_type": "markdown",
      "metadata": {
        "id": "llnYLONQ3Jr0",
        "colab_type": "text"
      },
      "source": [
        "There are increasingly more Fintech companies"
      ]
    },
    {
      "cell_type": "code",
      "metadata": {
        "id": "HZJKVV6uTgjn",
        "colab_type": "code",
        "colab": {}
      },
      "source": [
        "test_3 = pd.read_csv(\"/content/B2B_B2C_companies - Both number.csv\")"
      ],
      "execution_count": 0,
      "outputs": []
    },
    {
      "cell_type": "code",
      "metadata": {
        "id": "WbjwJBuwTu2O",
        "colab_type": "code",
        "colab": {}
      },
      "source": [
        "x3 = test_3['Last_5_both']\n",
        "y3 = test_3['First_both']"
      ],
      "execution_count": 0,
      "outputs": []
    },
    {
      "cell_type": "code",
      "metadata": {
        "id": "oMU_omjrTqGK",
        "colab_type": "code",
        "outputId": "9b6e877c-ed66-456b-a6f1-91b100fb2013",
        "colab": {
          "base_uri": "https://localhost:8080/",
          "height": 52
        }
      },
      "source": [
        "k2, p = stats.normaltest(x3)\n",
        "alpha = .05\n",
        "print(\"p = {:g}\".format(p))\n",
        "if p < alpha:\n",
        "  print(\"The null hypothesis can be rejected\")\n",
        "else:\n",
        "    print(\"No normality\")"
      ],
      "execution_count": 0,
      "outputs": [
        {
          "output_type": "stream",
          "text": [
            "p = 6.06552e-05\n",
            "The null hypothesis can be rejected\n"
          ],
          "name": "stdout"
        }
      ]
    },
    {
      "cell_type": "code",
      "metadata": {
        "id": "hDMUy_S3T8G7",
        "colab_type": "code",
        "outputId": "3c3bfe43-3ddb-4324-933a-d5cc7acc8071",
        "colab": {
          "base_uri": "https://localhost:8080/",
          "height": 52
        }
      },
      "source": [
        "k2, p = stats.normaltest(y3)\n",
        "alpha = .05\n",
        "print(\"p = {:g}\".format(p))\n",
        "if p < alpha:\n",
        "  print(\"The null hypothesis can be rejected\")\n",
        "else:\n",
        "    print(\"No normality\")"
      ],
      "execution_count": 0,
      "outputs": [
        {
          "output_type": "stream",
          "text": [
            "p = 1.77403e-08\n",
            "The null hypothesis can be rejected\n"
          ],
          "name": "stdout"
        }
      ]
    },
    {
      "cell_type": "code",
      "metadata": {
        "id": "8xJpta2-Rl5g",
        "colab_type": "code",
        "outputId": "d9125667-1567-4118-b90f-2f144dc2cded",
        "colab": {
          "base_uri": "https://localhost:8080/",
          "height": 52
        }
      },
      "source": [
        "df_3 = pd.read_csv(\"/content/B2B_B2C_companies - Both number.csv\")\n",
        "df_3[['Last_5_both','First_both']].describe()\n",
        "ttest,pval = stats.ttest_rel(df_3['Last_5_both'], df_3['First_both'])\n",
        "print(pval)\n",
        "if pval<0.05:\n",
        "    print(\"reject null hypothesis\")\n",
        "else:\n",
        "    print(\"accept null hypothesis\")"
      ],
      "execution_count": 0,
      "outputs": [
        {
          "output_type": "stream",
          "text": [
            "4.64374695733805e-26\n",
            "reject null hypothesis\n"
          ],
          "name": "stdout"
        }
      ]
    },
    {
      "cell_type": "markdown",
      "metadata": {
        "id": "-NToqfQz3by3",
        "colab_type": "text"
      },
      "source": [
        "More B2B in comparisson to previous years vs B2C"
      ]
    },
    {
      "cell_type": "code",
      "metadata": {
        "id": "tOWMaTETUNSR",
        "colab_type": "code",
        "colab": {}
      },
      "source": [
        "test_4 = pd.read_csv(\"/content/B2B_B2C_companies - Both difference.csv\")"
      ],
      "execution_count": 0,
      "outputs": []
    },
    {
      "cell_type": "code",
      "metadata": {
        "id": "REEMtBIYUZPQ",
        "colab_type": "code",
        "colab": {}
      },
      "source": [
        "x4 = test_4['Difference_last_5']\n",
        "y4 = test_4['Difference_first']"
      ],
      "execution_count": 0,
      "outputs": []
    },
    {
      "cell_type": "code",
      "metadata": {
        "id": "uOSLz_4bUmv2",
        "colab_type": "code",
        "outputId": "655b3453-7f7b-45ae-cce1-98cbf7135a34",
        "colab": {
          "base_uri": "https://localhost:8080/",
          "height": 52
        }
      },
      "source": [
        "k2, p = stats.normaltest(x4)\n",
        "alpha = .065\n",
        "print(\"p = {:g}\".format(p))\n",
        "if p < alpha:\n",
        "  print(\"The null hypothesis can be rejected\")\n",
        "else:\n",
        "    print(\"No normality\")"
      ],
      "execution_count": 0,
      "outputs": [
        {
          "output_type": "stream",
          "text": [
            "p = 0.059588\n",
            "The null hypothesis can be rejected\n"
          ],
          "name": "stdout"
        }
      ]
    },
    {
      "cell_type": "code",
      "metadata": {
        "id": "2hfMAB6wUw8d",
        "colab_type": "code",
        "outputId": "5e4bc8db-6580-4afd-e792-e8793818bcc2",
        "colab": {
          "base_uri": "https://localhost:8080/",
          "height": 52
        }
      },
      "source": [
        "k2, p = stats.normaltest(y4)\n",
        "alpha = .05\n",
        "print(\"p = {:g}\".format(p))\n",
        "if p < alpha:\n",
        "  print(\"The null hypothesis can be rejected\")\n",
        "else:\n",
        "    print(\"No normality\")"
      ],
      "execution_count": 0,
      "outputs": [
        {
          "output_type": "stream",
          "text": [
            "p = 1.84661e-10\n",
            "The null hypothesis can be rejected\n"
          ],
          "name": "stdout"
        }
      ]
    },
    {
      "cell_type": "code",
      "metadata": {
        "id": "UWSGbLAm3jJc",
        "colab_type": "code",
        "outputId": "87119f23-e48d-4a5f-ea1f-7b9e3b8cfe4a",
        "colab": {
          "base_uri": "https://localhost:8080/",
          "height": 52
        }
      },
      "source": [
        "df_4 = pd.read_csv(\"/content/B2B_B2C_companies - Both difference.csv\")\n",
        "df_4[['Difference_last_5','Difference_first']].describe()\n",
        "ttest,pval = stats.ttest_rel(df_4['Difference_last_5'], df_4['Difference_first'])\n",
        "print(pval)\n",
        "if pval<0.05:\n",
        "    print(\"reject null hypothesis\")\n",
        "else:\n",
        "    print(\"accept null hypothesis\")"
      ],
      "execution_count": 0,
      "outputs": [
        {
          "output_type": "stream",
          "text": [
            "0.08637712340702586\n",
            "accept null hypothesis\n"
          ],
          "name": "stdout"
        }
      ]
    },
    {
      "cell_type": "markdown",
      "metadata": {
        "id": "vkRBr8Ju4S-B",
        "colab_type": "text"
      },
      "source": [
        "Ranking difference from B2B to B2C overall * again"
      ]
    },
    {
      "cell_type": "code",
      "metadata": {
        "id": "p6MENAwkVOHp",
        "colab_type": "code",
        "colab": {}
      },
      "source": [
        "test_5 = pd.read_csv(\"/content/B2B_B2C_companies - Ranking difference.csv\")"
      ],
      "execution_count": 0,
      "outputs": []
    },
    {
      "cell_type": "code",
      "metadata": {
        "id": "RV9BKJVMVWnz",
        "colab_type": "code",
        "colab": {}
      },
      "source": [
        "x5 = test_5['Ranking_B2B_1']\n",
        "y5 = test_5['Ranking_B2C_1']"
      ],
      "execution_count": 0,
      "outputs": []
    },
    {
      "cell_type": "code",
      "metadata": {
        "id": "S53e90IaVjOX",
        "colab_type": "code",
        "outputId": "fdc9a638-256f-43ba-9e00-4ad30105b2d7",
        "colab": {
          "base_uri": "https://localhost:8080/",
          "height": 52
        }
      },
      "source": [
        "k2, p = stats.normaltest(x5)\n",
        "alpha = .05\n",
        "print(\"p = {:g}\".format(p))\n",
        "if p < alpha:\n",
        "  print(\"The null hypothesis can be rejected\")\n",
        "else:\n",
        "    print(\"No normality\")"
      ],
      "execution_count": 0,
      "outputs": [
        {
          "output_type": "stream",
          "text": [
            "p = 2.91455e-75\n",
            "The null hypothesis can be rejected\n"
          ],
          "name": "stdout"
        }
      ]
    },
    {
      "cell_type": "code",
      "metadata": {
        "id": "Gct_DnNiVvkT",
        "colab_type": "code",
        "outputId": "d3172f06-2fac-469f-bc64-4d82b68d61bb",
        "colab": {
          "base_uri": "https://localhost:8080/",
          "height": 52
        }
      },
      "source": [
        "k2, p = stats.normaltest(y5)\n",
        "alpha = .05\n",
        "print(\"p = {:g}\".format(p))\n",
        "if p < alpha:\n",
        "  print(\"The null hypothesis can be rejected\")\n",
        "else:\n",
        "    print(\"No normality\")"
      ],
      "execution_count": 0,
      "outputs": [
        {
          "output_type": "stream",
          "text": [
            "p = 1.7153e-251\n",
            "The null hypothesis can be rejected\n"
          ],
          "name": "stdout"
        }
      ]
    },
    {
      "cell_type": "code",
      "metadata": {
        "id": "LPPEUcHm4ZBm",
        "colab_type": "code",
        "outputId": "684a3a2c-dfb8-4c47-e019-6f0aab9a1288",
        "colab": {
          "base_uri": "https://localhost:8080/",
          "height": 52
        }
      },
      "source": [
        "df_5 = pd.read_csv(\"/content/B2B_B2C_companies - Ranking difference.csv\")\n",
        "df_5[['Ranking_B2B_1','Ranking_B2C_1']].describe()\n",
        "ttest,pval = stats.ttest_rel(df_5['Ranking_B2B_1'], df_5['Ranking_B2C_1'])\n",
        "print(pval)\n",
        "if pval<0.05:\n",
        "    print(\"reject null hypothesis\")\n",
        "else:\n",
        "    print(\"accept null hypothesis\")"
      ],
      "execution_count": 0,
      "outputs": [
        {
          "output_type": "stream",
          "text": [
            "0.032567490372818024\n",
            "reject null hypothesis\n"
          ],
          "name": "stdout"
        }
      ]
    },
    {
      "cell_type": "markdown",
      "metadata": {
        "id": "oRLxrMDS5V7i",
        "colab_type": "text"
      },
      "source": [
        "Has the ranking gap reduced in the last five years * again"
      ]
    },
    {
      "cell_type": "code",
      "metadata": {
        "id": "Ncpk4AH1V8xl",
        "colab_type": "code",
        "colab": {}
      },
      "source": [
        "test_6 = pd.read_csv(\"/content/B2B_B2C_companies - Ranking_gap_reduce (1).csv\")"
      ],
      "execution_count": 0,
      "outputs": []
    },
    {
      "cell_type": "code",
      "metadata": {
        "id": "hHddoBFsWFFY",
        "colab_type": "code",
        "colab": {}
      },
      "source": [
        "x6 = test_6['Difference_1']\n",
        "y6 = test_6['Difference']"
      ],
      "execution_count": 0,
      "outputs": []
    },
    {
      "cell_type": "code",
      "metadata": {
        "id": "sC5KHE7aWQ2r",
        "colab_type": "code",
        "outputId": "cae31e3f-9852-4cd3-8e8d-8f67c971d3b8",
        "colab": {
          "base_uri": "https://localhost:8080/",
          "height": 52
        }
      },
      "source": [
        "k2, p = stats.normaltest(x6)\n",
        "alpha = .05\n",
        "print(\"p = {:g}\".format(p))\n",
        "if p < alpha:\n",
        "  print(\"The null hypothesis can be rejected\")\n",
        "else:\n",
        "    print(\"No normality\")"
      ],
      "execution_count": 0,
      "outputs": [
        {
          "output_type": "stream",
          "text": [
            "p = 0.0119933\n",
            "The null hypothesis can be rejected\n"
          ],
          "name": "stdout"
        }
      ]
    },
    {
      "cell_type": "code",
      "metadata": {
        "id": "0TqJd4F9WVgQ",
        "colab_type": "code",
        "outputId": "c87ccbba-3c4a-472a-c758-42944da77673",
        "colab": {
          "base_uri": "https://localhost:8080/",
          "height": 52
        }
      },
      "source": [
        "k2, p = stats.normaltest(y6)\n",
        "alpha = .05\n",
        "print(\"p = {:g}\".format(p))\n",
        "if p < alpha:\n",
        "  print(\"The null hypothesis can be rejected\")\n",
        "else:\n",
        "    print(\"No normality\")"
      ],
      "execution_count": 0,
      "outputs": [
        {
          "output_type": "stream",
          "text": [
            "p = 0\n",
            "The null hypothesis can be rejected\n"
          ],
          "name": "stdout"
        }
      ]
    },
    {
      "cell_type": "code",
      "metadata": {
        "id": "LqTfU8kx5ats",
        "colab_type": "code",
        "outputId": "2d8ef18f-5ffb-4d20-a8ea-8e531b3cd186",
        "colab": {
          "base_uri": "https://localhost:8080/",
          "height": 52
        }
      },
      "source": [
        "df_6 = pd.read_csv(\"/content/B2B_B2C_companies - Ranking_gap_reduce (1).csv\")\n",
        "df_6[['Difference_1','Difference']].describe()\n",
        "ttest,pval = stats.ttest_rel(df_6['Difference_1'], df_6['Difference'])\n",
        "print(pval)\n",
        "if pval<0.05:\n",
        "    print(\"reject null hypothesis\")\n",
        "else:\n",
        "    print(\"accept null hypothesis\")"
      ],
      "execution_count": 0,
      "outputs": [
        {
          "output_type": "stream",
          "text": [
            "0.7462868092084969\n",
            "accept null hypothesis\n"
          ],
          "name": "stdout"
        }
      ]
    },
    {
      "cell_type": "markdown",
      "metadata": {
        "id": "eLSJSu1u6Kh4",
        "colab_type": "text"
      },
      "source": [
        ""
      ]
    },
    {
      "cell_type": "markdown",
      "metadata": {
        "id": "Te0UDZUZfdsv",
        "colab_type": "text"
      },
      "source": [
        "Does B2C hve better score overall?"
      ]
    },
    {
      "cell_type": "code",
      "metadata": {
        "id": "HfhIQXdy6dId",
        "colab_type": "code",
        "outputId": "79628da3-51e5-44b8-a185-d0c98d8b560e",
        "colab": {
          "base_uri": "https://localhost:8080/",
          "height": 52
        }
      },
      "source": [
        "df_8 = pd.read_csv(\"/content/B2B_B2C_comparrisns - Score overall.csv\")\n",
        "df_8[['Master_B2B','Master_B2C']].describe()\n",
        "ttest,pval = stats.ttest_rel(df_8['Master_B2B'], df_8['Master_B2C'])\n",
        "print(pval)\n",
        "if pval<0.05:\n",
        "    print(\"reject null hypothesis\")\n",
        "else:\n",
        "    print(\"accept null hypothesis\")"
      ],
      "execution_count": 0,
      "outputs": [
        {
          "output_type": "stream",
          "text": [
            "2.1597589114147994e-06\n",
            "reject null hypothesis\n"
          ],
          "name": "stdout"
        }
      ]
    },
    {
      "cell_type": "code",
      "metadata": {
        "id": "IK58eG9XW0u-",
        "colab_type": "code",
        "colab": {}
      },
      "source": [
        "test_7 = pd.read_csv(\"/content/B2B_B2C_comparrisns - Difference_score.csv\")"
      ],
      "execution_count": 0,
      "outputs": []
    },
    {
      "cell_type": "code",
      "metadata": {
        "id": "HJ7RncrcW8DR",
        "colab_type": "code",
        "colab": {}
      },
      "source": [
        "x7 = test_7['Diff_score_last5']\n",
        "y7 = test_7['Diff_score_first']"
      ],
      "execution_count": 0,
      "outputs": []
    },
    {
      "cell_type": "code",
      "metadata": {
        "id": "7eEnnbjnXLkg",
        "colab_type": "code",
        "outputId": "160f592e-339f-4c31-fbfc-c75d354823ad",
        "colab": {
          "base_uri": "https://localhost:8080/",
          "height": 52
        }
      },
      "source": [
        "k2, p = stats.normaltest(x7)\n",
        "alpha = .05\n",
        "print(\"p = {:g}\".format(p))\n",
        "if p < alpha:\n",
        "  print(\"The null hypothesis can be rejected\")\n",
        "else:\n",
        "    print(\"No normality\")"
      ],
      "execution_count": 0,
      "outputs": [
        {
          "output_type": "stream",
          "text": [
            "p = 0.00209086\n",
            "The null hypothesis can be rejected\n"
          ],
          "name": "stdout"
        }
      ]
    },
    {
      "cell_type": "code",
      "metadata": {
        "id": "dnnwIUetXP1D",
        "colab_type": "code",
        "outputId": "2307f82c-e846-422f-e6b6-9e115c57e0a2",
        "colab": {
          "base_uri": "https://localhost:8080/",
          "height": 52
        }
      },
      "source": [
        "k2, p = stats.normaltest(y7)\n",
        "alpha = .05\n",
        "print(\"p = {:g}\".format(p))\n",
        "if p < alpha:\n",
        "  print(\"The null hypothesis can be rejected\")\n",
        "else:\n",
        "    print(\"No normality\")"
      ],
      "execution_count": 0,
      "outputs": [
        {
          "output_type": "stream",
          "text": [
            "p = 0.305928\n",
            "No normality\n"
          ],
          "name": "stdout"
        }
      ]
    },
    {
      "cell_type": "code",
      "metadata": {
        "id": "pTM3FMt_X6K9",
        "colab_type": "code",
        "outputId": "b2d2398a-b866-4500-a715-e65e13eadce9",
        "colab": {
          "base_uri": "https://localhost:8080/",
          "height": 34
        }
      },
      "source": [
        "from sklearn import preprocessing\n",
        "normalizer = preprocessing.Normalizer().fit(test_7)  \n",
        "normalizer"
      ],
      "execution_count": 0,
      "outputs": [
        {
          "output_type": "execute_result",
          "data": {
            "text/plain": [
              "Normalizer(copy=True, norm='l2')"
            ]
          },
          "metadata": {
            "tags": []
          },
          "execution_count": 49
        }
      ]
    },
    {
      "cell_type": "code",
      "metadata": {
        "id": "r6O-Z1UxYKN8",
        "colab_type": "code",
        "colab": {}
      },
      "source": [
        "normalizer = normalizer.transform(test_7)"
      ],
      "execution_count": 0,
      "outputs": []
    },
    {
      "cell_type": "code",
      "metadata": {
        "id": "f7fqX-nRX-OY",
        "colab_type": "code",
        "colab": {}
      },
      "source": [
        "test_7 = pd.DataFrame(normalizer)"
      ],
      "execution_count": 0,
      "outputs": []
    },
    {
      "cell_type": "code",
      "metadata": {
        "id": "1jUqB0LPYl7Q",
        "colab_type": "code",
        "outputId": "ac190d03-0b9e-47f8-fca8-7fe823677e98",
        "colab": {
          "base_uri": "https://localhost:8080/",
          "height": 197
        }
      },
      "source": [
        "test_7.head()"
      ],
      "execution_count": 0,
      "outputs": [
        {
          "output_type": "execute_result",
          "data": {
            "text/html": [
              "<div>\n",
              "<style scoped>\n",
              "    .dataframe tbody tr th:only-of-type {\n",
              "        vertical-align: middle;\n",
              "    }\n",
              "\n",
              "    .dataframe tbody tr th {\n",
              "        vertical-align: top;\n",
              "    }\n",
              "\n",
              "    .dataframe thead th {\n",
              "        text-align: right;\n",
              "    }\n",
              "</style>\n",
              "<table border=\"1\" class=\"dataframe\">\n",
              "  <thead>\n",
              "    <tr style=\"text-align: right;\">\n",
              "      <th></th>\n",
              "      <th>0</th>\n",
              "      <th>1</th>\n",
              "    </tr>\n",
              "  </thead>\n",
              "  <tbody>\n",
              "    <tr>\n",
              "      <th>0</th>\n",
              "      <td>-0.067788</td>\n",
              "      <td>-0.997700</td>\n",
              "    </tr>\n",
              "    <tr>\n",
              "      <th>1</th>\n",
              "      <td>0.180984</td>\n",
              "      <td>-0.983486</td>\n",
              "    </tr>\n",
              "    <tr>\n",
              "      <th>2</th>\n",
              "      <td>0.055324</td>\n",
              "      <td>-0.998468</td>\n",
              "    </tr>\n",
              "    <tr>\n",
              "      <th>3</th>\n",
              "      <td>-0.261167</td>\n",
              "      <td>-0.965294</td>\n",
              "    </tr>\n",
              "    <tr>\n",
              "      <th>4</th>\n",
              "      <td>-0.001364</td>\n",
              "      <td>-0.999999</td>\n",
              "    </tr>\n",
              "  </tbody>\n",
              "</table>\n",
              "</div>"
            ],
            "text/plain": [
              "          0         1\n",
              "0 -0.067788 -0.997700\n",
              "1  0.180984 -0.983486\n",
              "2  0.055324 -0.998468\n",
              "3 -0.261167 -0.965294\n",
              "4 -0.001364 -0.999999"
            ]
          },
          "metadata": {
            "tags": []
          },
          "execution_count": 55
        }
      ]
    },
    {
      "cell_type": "code",
      "metadata": {
        "id": "5sG_QD0nYt4C",
        "colab_type": "code",
        "colab": {}
      },
      "source": [
        "x7 = test_7[0]\n",
        "y7 = test_7[1]"
      ],
      "execution_count": 0,
      "outputs": []
    },
    {
      "cell_type": "code",
      "metadata": {
        "id": "qvvXBVirY5EM",
        "colab_type": "code",
        "outputId": "cc0f3def-5688-4abe-8c24-daf730333887",
        "colab": {
          "base_uri": "https://localhost:8080/",
          "height": 52
        }
      },
      "source": [
        "k2, p = stats.normaltest(x7)\n",
        "alpha = .05\n",
        "print(\"p = {:g}\".format(p))\n",
        "if p < alpha:\n",
        "  print(\"The null hypothesis can be rejected\")\n",
        "else:\n",
        "    print(\"No normality\")"
      ],
      "execution_count": 0,
      "outputs": [
        {
          "output_type": "stream",
          "text": [
            "p = 0.0123049\n",
            "The null hypothesis can be rejected\n"
          ],
          "name": "stdout"
        }
      ]
    },
    {
      "cell_type": "code",
      "metadata": {
        "id": "x-IkrIP6ZAui",
        "colab_type": "code",
        "outputId": "cc2331c4-d1d6-4295-820b-8abb8c5175f4",
        "colab": {
          "base_uri": "https://localhost:8080/",
          "height": 52
        }
      },
      "source": [
        "k2, p = stats.normaltest(y7)\n",
        "alpha = .05\n",
        "print(\"p = {:g}\".format(p))\n",
        "if p < alpha:\n",
        "  print(\"The null hypothesis can be rejected\")\n",
        "else:\n",
        "    print(\"No normality\")"
      ],
      "execution_count": 0,
      "outputs": [
        {
          "output_type": "stream",
          "text": [
            "p = 0.0212875\n",
            "The null hypothesis can be rejected\n"
          ],
          "name": "stdout"
        }
      ]
    },
    {
      "cell_type": "code",
      "metadata": {
        "colab_type": "code",
        "id": "muH8cdY3Tn_M",
        "outputId": "36f4f5ff-4bd1-4fb2-b178-73db8b6ae253",
        "colab": {
          "base_uri": "https://localhost:8080/",
          "height": 52
        }
      },
      "source": [
        "\n",
        "ttest,pval = stats.ttest_rel(x7, y7)\n",
        "print(pval)\n",
        "if pval<0.05:\n",
        "    print(\"reject null hypothesis\")\n",
        "else:\n",
        "    print(\"accept null hypothesis\")"
      ],
      "execution_count": 0,
      "outputs": [
        {
          "output_type": "stream",
          "text": [
            "0.19781764713383684\n",
            "accept null hypothesis\n"
          ],
          "name": "stdout"
        }
      ]
    },
    {
      "cell_type": "code",
      "metadata": {
        "id": "mkLk0urZGL5g",
        "colab_type": "code",
        "colab": {}
      },
      "source": [
        ""
      ],
      "execution_count": 0,
      "outputs": []
    },
    {
      "cell_type": "markdown",
      "metadata": {
        "id": "tKaXP2ieGNwg",
        "colab_type": "text"
      },
      "source": [
        "Hypothesis 7 part II"
      ]
    },
    {
      "cell_type": "code",
      "metadata": {
        "id": "RGW3qrnZGQm6",
        "colab_type": "code",
        "outputId": "1678f408-a39b-427c-9b36-d78d26d7406b",
        "colab": {
          "base_uri": "https://localhost:8080/",
          "height": 52
        }
      },
      "source": [
        "df_10 = pd.read_csv(\"/content/Time series dataset - Hypothesis7_part2.csv\")\n",
        "df_10[['New','First']].describe()\n",
        "ttest,pval = stats.ttest_rel(df_10['New'], df_10['First'])\n",
        "print(pval)\n",
        "if pval<0.05:\n",
        "    print(\"reject null hypothesis\")\n",
        "else:\n",
        "    print(\"accept null hypothesis\")"
      ],
      "execution_count": 0,
      "outputs": [
        {
          "output_type": "stream",
          "text": [
            "2.772827354775973e-05\n",
            "reject null hypothesis\n"
          ],
          "name": "stdout"
        }
      ]
    }
  ]
}